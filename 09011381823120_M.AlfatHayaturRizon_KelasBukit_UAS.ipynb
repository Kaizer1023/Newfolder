{
 "cells": [
  {
   "cell_type": "markdown",
   "metadata": {},
   "source": [
    "# Weighted k-NN \n",
    "### Read data\n",
    "\n",
    "Read data using `pandas`"
   ]
  },
  {
   "cell_type": "markdown",
   "metadata": {},
   "source": [
    " K-Nearest Neighbor (KNN) adalah sebuah metode klasifikasi terhadap sekumpulan data berdasarkan pembelajaran data yang sudah terklasifikasikan sebelumya"
   ]
  },
  {
   "cell_type": "code",
   "execution_count": 5,
   "metadata": {
    "inputHidden": false,
    "outputHidden": false
   },
   "outputs": [
    {
     "name": "stdout",
     "output_type": "stream",
     "text": [
      "   displacement  horsepower   mpg\n",
      "0         307.0         130  18.0\n",
      "1         350.0         165  15.0\n",
      "2         318.0         150  18.0\n",
      "3         304.0         150  16.0\n",
      "4         302.0         140  17.0\n",
      "   displacement  horsepower   mpg\n",
      "0            89          71  31.9\n",
      "1            86          65  34.1\n",
      "2            98          80  35.7\n",
      "3           121          80  27.4\n",
      "4           183          77  25.4\n"
     ]
    }
   ],
   "source": [
    "import pandas\n",
    "\n",
    "training_data = pandas.read_csv(\"auto_train.csv\")\n",
    "print(training_data.head())\n",
    "test_data = pandas.read_csv(\"auto_test.csv\")\n",
    "print(test_data.head())\n",
    "\n",
    "x = training_data.iloc[:,:-1]\n",
    "y = training_data.iloc[:,-1]\n",
    "\n",
    "x_test = test_data.iloc[:,:-1]\n",
    "y_test = test_data.iloc[:,-1]"
   ]
  },
  {
   "cell_type": "markdown",
   "metadata": {},
   "source": [
    "### k-NN\n",
    "Menerapkan k Nearest Neighbor Terdekat dari awal. Dengan menggunakan data dalam set pelatihan, prediksi keluaran untuk setiap contoh dalam pengujian, untuk k = 1, k = 3, dan k = 20. Melaporkan kesalahan kuadrat Err pada set pengujian."
   ]
  },
  {
   "cell_type": "code",
   "execution_count": 6,
   "metadata": {
    "inputHidden": false,
    "outputHidden": false
   },
   "outputs": [
    {
     "name": "stdout",
     "output_type": "stream",
     "text": [
      "Test error with k=1: 2868.0049999999997\n",
      "Test error with k=3: 2794.729999999999\n",
      "Test error with k=20: 2746.1914125\n"
     ]
    }
   ],
   "source": [
    "from kNN import kNN\n",
    "from sklearn.metrics import mean_squared_error\n",
    "\n",
    "for k in [1, 3, 20]:\n",
    "    classifier = kNN(x,y, k)\n",
    "    pred_test = classifier.predict(x_test)\n",
    "\n",
    "    test_error = mean_squared_error(y_test, pred_test)\n",
    "    print(\"Test error with k={}: {}\".format(k, test_error * len(y_test)/2))\n",
    "\n"
   ]
  },
  {
   "cell_type": "markdown",
   "metadata": {},
   "source": [
    "### Weighted k-NN\n",
    "Alih-alih menghitung rata-rata k Nearest Neighbor, saya menghitung rata-rata tertimbang dari Nearest Neighbor menggunakan fungsi gaussian untuk mengambil bobot untuk setiap Nearest Neighbor."
   ]
  },
  {
   "cell_type": "code",
   "execution_count": 7,
   "metadata": {
    "inputHidden": false,
    "outputHidden": false
   },
   "outputs": [
    {
     "name": "stdout",
     "output_type": "stream",
     "text": [
      "Test error with k=1: 2868.005\n",
      "Test error with k=3: 2757.3065023859417\n",
      "Test error with k=20: 2737.9437262401907\n"
     ]
    }
   ],
   "source": [
    "from kNN import kNN\n",
    "\n",
    "for k in [1, 3, 20]:\n",
    "    classifier = kNN(x,y, k, weighted=True)\n",
    "    pred_test = classifier.predict(x_test)\n",
    "\n",
    "    test_error = mean_squared_error(y_test, pred_test)\n",
    "    print(\"Test error with k={}: {}\".format(k, test_error * len(y_test)/2))\n"
   ]
  }
 ],
 "metadata": {
  "kernel_info": {
   "name": "python3"
  },
  "kernelspec": {
   "display_name": "Python 3",
   "language": "python",
   "name": "python3"
  },
  "language_info": {
   "codemirror_mode": {
    "name": "ipython",
    "version": 3
   },
   "file_extension": ".py",
   "mimetype": "text/x-python",
   "name": "python",
   "nbconvert_exporter": "python",
   "pygments_lexer": "ipython3",
   "version": "3.8.3"
  },
  "nteract": {
   "version": "0.8.4"
  }
 },
 "nbformat": 4,
 "nbformat_minor": 4
}
