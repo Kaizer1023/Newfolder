{
 "cells": [
  {
   "cell_type": "markdown",
   "metadata": {},
   "source": [
    "# # TEXT PROCESSING"
   ]
  },
  {
   "cell_type": "markdown",
   "metadata": {},
   "source": [
    "Text Processing\n",
    "\n",
    "Text Processing merupakan bagian dari Machine Learning. \n",
    "\n",
    "Author Name Disambiguation merupakan salah satu bagian dari text processing. Author Name Disambiguation ialah proses membedakan penulis yang memiliki kesamaan nama (ambigu) sehingga dapat mengurangi kesalahan dalam mengidentifikasi data penulis."
   ]
  },
  {
   "cell_type": "markdown",
   "metadata": {},
   "source": [
    "**Library yang digunakan**"
   ]
  },
  {
   "cell_type": "code",
   "execution_count": 1,
   "metadata": {},
   "outputs": [
    {
     "name": "stderr",
     "output_type": "stream",
     "text": [
      "[nltk_data] Downloading package stopwords to\n",
      "[nltk_data]     C:\\Users\\User\\AppData\\Roaming\\nltk_data...\n",
      "[nltk_data]   Unzipping corpora\\stopwords.zip.\n",
      "[nltk_data] Downloading package punkt to\n",
      "[nltk_data]     C:\\Users\\User\\AppData\\Roaming\\nltk_data...\n",
      "[nltk_data]   Unzipping tokenizers\\punkt.zip.\n",
      "[nltk_data] Downloading package wordnet to\n",
      "[nltk_data]     C:\\Users\\User\\AppData\\Roaming\\nltk_data...\n",
      "[nltk_data]   Unzipping corpora\\wordnet.zip.\n"
     ]
    },
    {
     "data": {
      "text/plain": [
       "True"
      ]
     },
     "execution_count": 1,
     "metadata": {},
     "output_type": "execute_result"
    }
   ],
   "source": [
    "import numpy as np\n",
    "import pandas as pd\n",
    "from nltk.tokenize import sent_tokenize, word_tokenize\n",
    "from nltk.stem import WordNetLemmatizer, PorterStemmer, LancasterStemmer, SnowballStemmer\n",
    "from sklearn.feature_extraction.text import TfidfVectorizer\n",
    "import re\n",
    "import string\n",
    "import nltk\n",
    "from nltk.corpus import stopwords, wordnet\n",
    "nltk.download('stopwords')\n",
    "nltk.download('punkt')\n",
    "nltk.download('wordnet')"
   ]
  },
  {
   "cell_type": "code",
   "execution_count": 11,
   "metadata": {},
   "outputs": [],
   "source": [
    "df = pd.read_csv(\"robotics.csv\")"
   ]
  },
  {
   "cell_type": "markdown",
   "metadata": {},
   "source": [
    "**Melihat Isi Dataset**"
   ]
  },
  {
   "cell_type": "code",
   "execution_count": 12,
   "metadata": {},
   "outputs": [
    {
     "data": {
      "text/html": [
       "<div>\n",
       "<style scoped>\n",
       "    .dataframe tbody tr th:only-of-type {\n",
       "        vertical-align: middle;\n",
       "    }\n",
       "\n",
       "    .dataframe tbody tr th {\n",
       "        vertical-align: top;\n",
       "    }\n",
       "\n",
       "    .dataframe thead th {\n",
       "        text-align: right;\n",
       "    }\n",
       "</style>\n",
       "<table border=\"1\" class=\"dataframe\">\n",
       "  <thead>\n",
       "    <tr style=\"text-align: right;\">\n",
       "      <th></th>\n",
       "      <th>id</th>\n",
       "      <th>title</th>\n",
       "      <th>content</th>\n",
       "      <th>tags</th>\n",
       "    </tr>\n",
       "  </thead>\n",
       "  <tbody>\n",
       "    <tr>\n",
       "      <th>0</th>\n",
       "      <td>1</td>\n",
       "      <td>What is the right approach to write the spin c...</td>\n",
       "      <td>&lt;p&gt;Imagine programming a 3 wheel soccer robot....</td>\n",
       "      <td>soccer control</td>\n",
       "    </tr>\n",
       "    <tr>\n",
       "      <th>1</th>\n",
       "      <td>2</td>\n",
       "      <td>How can I modify a low cost hobby servo to run...</td>\n",
       "      <td>&lt;p&gt;I've got some hobby servos (&lt;a href=\"http:/...</td>\n",
       "      <td>control rcservo</td>\n",
       "    </tr>\n",
       "    <tr>\n",
       "      <th>2</th>\n",
       "      <td>3</td>\n",
       "      <td>What useful gaits exist for a six legged robot...</td>\n",
       "      <td>&lt;p&gt;&lt;a href=\"http://www.oricomtech.com/projects...</td>\n",
       "      <td>gait walk</td>\n",
       "    </tr>\n",
       "    <tr>\n",
       "      <th>3</th>\n",
       "      <td>4</td>\n",
       "      <td>Good Microcontrollers/SOCs for a Robotics Project</td>\n",
       "      <td>&lt;p&gt;I am looking for a starting point for my pr...</td>\n",
       "      <td>microcontroller arduino raspberry-pi</td>\n",
       "    </tr>\n",
       "    <tr>\n",
       "      <th>4</th>\n",
       "      <td>5</td>\n",
       "      <td>Nearest-neighbor data structure for non-Euclid...</td>\n",
       "      <td>&lt;p&gt;I'm trying to implement a nearest-neighbor ...</td>\n",
       "      <td>motion-planning rrt</td>\n",
       "    </tr>\n",
       "    <tr>\n",
       "      <th>...</th>\n",
       "      <td>...</td>\n",
       "      <td>...</td>\n",
       "      <td>...</td>\n",
       "      <td>...</td>\n",
       "    </tr>\n",
       "    <tr>\n",
       "      <th>2766</th>\n",
       "      <td>10568</td>\n",
       "      <td>What types of actuators do these industrial bo...</td>\n",
       "      <td>&lt;p&gt;I have a particular example robot that inte...</td>\n",
       "      <td>motor robotic-arm actuator torque</td>\n",
       "    </tr>\n",
       "    <tr>\n",
       "      <th>2767</th>\n",
       "      <td>10573</td>\n",
       "      <td>Technique to increase POV resolution</td>\n",
       "      <td>&lt;p&gt;I have thought of a technique to increase t...</td>\n",
       "      <td>microcontroller electronics</td>\n",
       "    </tr>\n",
       "    <tr>\n",
       "      <th>2768</th>\n",
       "      <td>10580</td>\n",
       "      <td>How can I upload sketches to an Arduino over a...</td>\n",
       "      <td>&lt;p&gt;I am doing robotics project on Raspberry pi...</td>\n",
       "      <td>arduino raspberry-pi embedded-systems first-ro...</td>\n",
       "    </tr>\n",
       "    <tr>\n",
       "      <th>2769</th>\n",
       "      <td>10581</td>\n",
       "      <td>EKF SLAM 2d laser scanned datasets usage</td>\n",
       "      <td>&lt;p&gt;How to understand the 2d laser scanner scan...</td>\n",
       "      <td>slam ekf first-robotics</td>\n",
       "    </tr>\n",
       "    <tr>\n",
       "      <th>2770</th>\n",
       "      <td>10584</td>\n",
       "      <td>Communication in SWARM robotics</td>\n",
       "      <td>&lt;p&gt;Hey so I am trying to research into SWARM r...</td>\n",
       "      <td>wireless</td>\n",
       "    </tr>\n",
       "  </tbody>\n",
       "</table>\n",
       "<p>2771 rows × 4 columns</p>\n",
       "</div>"
      ],
      "text/plain": [
       "         id                                              title  \\\n",
       "0         1  What is the right approach to write the spin c...   \n",
       "1         2  How can I modify a low cost hobby servo to run...   \n",
       "2         3  What useful gaits exist for a six legged robot...   \n",
       "3         4  Good Microcontrollers/SOCs for a Robotics Project   \n",
       "4         5  Nearest-neighbor data structure for non-Euclid...   \n",
       "...     ...                                                ...   \n",
       "2766  10568  What types of actuators do these industrial bo...   \n",
       "2767  10573               Technique to increase POV resolution   \n",
       "2768  10580  How can I upload sketches to an Arduino over a...   \n",
       "2769  10581           EKF SLAM 2d laser scanned datasets usage   \n",
       "2770  10584                    Communication in SWARM robotics   \n",
       "\n",
       "                                                content  \\\n",
       "0     <p>Imagine programming a 3 wheel soccer robot....   \n",
       "1     <p>I've got some hobby servos (<a href=\"http:/...   \n",
       "2     <p><a href=\"http://www.oricomtech.com/projects...   \n",
       "3     <p>I am looking for a starting point for my pr...   \n",
       "4     <p>I'm trying to implement a nearest-neighbor ...   \n",
       "...                                                 ...   \n",
       "2766  <p>I have a particular example robot that inte...   \n",
       "2767  <p>I have thought of a technique to increase t...   \n",
       "2768  <p>I am doing robotics project on Raspberry pi...   \n",
       "2769  <p>How to understand the 2d laser scanner scan...   \n",
       "2770  <p>Hey so I am trying to research into SWARM r...   \n",
       "\n",
       "                                                   tags  \n",
       "0                                        soccer control  \n",
       "1                                       control rcservo  \n",
       "2                                             gait walk  \n",
       "3                  microcontroller arduino raspberry-pi  \n",
       "4                                   motion-planning rrt  \n",
       "...                                                 ...  \n",
       "2766                  motor robotic-arm actuator torque  \n",
       "2767                        microcontroller electronics  \n",
       "2768  arduino raspberry-pi embedded-systems first-ro...  \n",
       "2769                            slam ekf first-robotics  \n",
       "2770                                           wireless  \n",
       "\n",
       "[2771 rows x 4 columns]"
      ]
     },
     "execution_count": 12,
     "metadata": {},
     "output_type": "execute_result"
    }
   ],
   "source": [
    "df"
   ]
  },
  {
   "cell_type": "markdown",
   "metadata": {},
   "source": [
    "**Penjelasan Dataset**\n",
    "\n",
    "1. dataset : judul dataset.\n",
    "2. id : id paper/karya tulis penulis.\n",
    "3. title : judul karya tulis.\n",
    "4. venue : jurnal yang menerbitkan paper/karya tulis penulis.\n",
    "5. year : tahun paper/karya tulis dipublish.\n",
    "6. name : berisi mengenai daftar nama penulis.\n",
    "7. shortname : daftar nama pendek penulis.\n",
    "8. id2 : id tanda pengenal penulis.\n",
    "\n"
   ]
  },
  {
   "cell_type": "code",
   "execution_count": 13,
   "metadata": {},
   "outputs": [
    {
     "name": "stdout",
     "output_type": "stream",
     "text": [
      "<class 'pandas.core.frame.DataFrame'>\n",
      "RangeIndex: 2771 entries, 0 to 2770\n",
      "Data columns (total 4 columns):\n",
      " #   Column   Non-Null Count  Dtype \n",
      "---  ------   --------------  ----- \n",
      " 0   id       2771 non-null   int64 \n",
      " 1   title    2771 non-null   object\n",
      " 2   content  2771 non-null   object\n",
      " 3   tags     2771 non-null   object\n",
      "dtypes: int64(1), object(3)\n",
      "memory usage: 86.7+ KB\n"
     ]
    }
   ],
   "source": [
    "df.info()"
   ]
  },
  {
   "cell_type": "markdown",
   "metadata": {},
   "source": [
    "**Melakukan Teks Pre-Processing**\n",
    "\n",
    "Text Preprocessing adalah salah satu bagian dari Natural Language Processing (NLP) dan merupakan tahapan paling awal sebelum masuk ke dalam proses inti pengolahan data. Text Preprocessing berfungsi dalam mempersiapkan data yang digunakan agar lebih terstruktur dan efektif. NLP merupakan teknologi Artificial Intelligence (AI) yang digunakan untuk mengubah data inti dari suatu dokumen berbentuk teks (text form) menjadi suatu data kuantitatif berbentuk angka (numerical form) secara cepat. Sehingga, data dapat diproses lebih lanjut seperti, dilakukan klasifikasi,clustering, dan sebagainya.\n"
   ]
  },
  {
   "cell_type": "code",
   "execution_count": 15,
   "metadata": {},
   "outputs": [
    {
     "name": "stdout",
     "output_type": "stream",
     "text": [
      "0       What is the right approach to write the spin c...\n",
      "1       How can I modify a low cost hobby servo to run...\n",
      "2       What useful gaits exist for a six legged robot...\n",
      "3       Good Microcontrollers/SOCs for a Robotics Project\n",
      "4       Nearest-neighbor data structure for non-Euclid...\n",
      "                              ...                        \n",
      "2766    What types of actuators do these industrial bo...\n",
      "2767                 Technique to increase POV resolution\n",
      "2768    How can I upload sketches to an Arduino over a...\n",
      "2769             EKF SLAM 2d laser scanned datasets usage\n",
      "2770                      Communication in SWARM robotics\n",
      "Name: title, Length: 2771, dtype: object\n"
     ]
    }
   ],
   "source": [
    "title = df['title']\n",
    "print(title)"
   ]
  },
  {
   "cell_type": "markdown",
   "metadata": {},
   "source": [
    "**Function Teks Pre Processing**"
   ]
  },
  {
   "cell_type": "code",
   "execution_count": 16,
   "metadata": {},
   "outputs": [],
   "source": [
    "def clean(text):\n",
    "    text = text.lower()  # Lowercase text\n",
    "    text = re.sub(r'\\d+', '', text.lower())  # Clear Number\n",
    "    text = text.translate(str.maketrans(\"\", \"\", string.punctuation))  # Clear  !@#$##&$*(%)\n",
    "    text = text.strip()  # Bersihkan whitespaces (karakter karakter yang aneh/tak terlihat)\n",
    "    return text"
   ]
  },
  {
   "cell_type": "markdown",
   "metadata": {},
   "source": [
    "**Penerapan/Apply Fungsi pada salah satu feature**"
   ]
  },
  {
   "cell_type": "code",
   "execution_count": 18,
   "metadata": {},
   "outputs": [
    {
     "data": {
      "text/plain": [
       "0       what is the right approach to write the spin c...\n",
       "1       how can i modify a low cost hobby servo to run...\n",
       "2       what useful gaits exist for a six legged robot...\n",
       "3        good microcontrollerssocs for a robotics project\n",
       "4       nearestneighbor data structure for noneuclidea...\n",
       "                              ...                        \n",
       "2766    what types of actuators do these industrial bo...\n",
       "2767                 technique to increase pov resolution\n",
       "2768    how can i upload sketches to an arduino over a...\n",
       "2769              ekf slam d laser scanned datasets usage\n",
       "2770                      communication in swarm robotics\n",
       "Name: title, Length: 2771, dtype: object"
      ]
     },
     "execution_count": 18,
     "metadata": {},
     "output_type": "execute_result"
    }
   ],
   "source": [
    "title = title.apply(clean)\n",
    "title"
   ]
  },
  {
   "cell_type": "code",
   "execution_count": 19,
   "metadata": {},
   "outputs": [
    {
     "name": "stdout",
     "output_type": "stream",
     "text": [
      "Requirement already satisfied: nltk in c:\\users\\user\\anaconda3\\lib\\site-packages (3.5)Note: you may need to restart the kernel to use updated packages.\n",
      "Requirement already satisfied: tqdm in c:\\users\\user\\anaconda3\\lib\\site-packages (from nltk) (4.47.0)\n",
      "Requirement already satisfied: click in c:\\users\\user\\anaconda3\\lib\\site-packages (from nltk) (7.1.2)\n",
      "Requirement already satisfied: joblib in c:\\users\\user\\anaconda3\\lib\\site-packages (from nltk) (0.16.0)\n",
      "Requirement already satisfied: regex in c:\\users\\user\\anaconda3\\lib\\site-packages (from nltk) (2020.6.8)\n",
      "\n"
     ]
    }
   ],
   "source": [
    "pip install nltk "
   ]
  },
  {
   "cell_type": "code",
   "execution_count": 20,
   "metadata": {},
   "outputs": [],
   "source": [
    "lemmatizer = WordNetLemmatizer()\n",
    "stemmer = PorterStemmer()\n",
    "stop_words = set(stopwords.words('english'))"
   ]
  },
  {
   "cell_type": "code",
   "execution_count": 21,
   "metadata": {},
   "outputs": [],
   "source": [
    "def tokenstem(text):\n",
    "    words = word_tokenize(text)\n",
    "    filtered = []\n",
    "    for w in words:\n",
    "        if w not in stop_words:\n",
    "            w = lemmatizer.lemmatize(w)\n",
    "            w = stemmer.stem(w)\n",
    "            filtered.append(w)\n",
    "    return filtered"
   ]
  },
  {
   "cell_type": "code",
   "execution_count": 22,
   "metadata": {},
   "outputs": [
    {
     "data": {
      "text/plain": [
       "0       [right, approach, write, spin, control, soccer...\n",
       "1          [modifi, low, cost, hobbi, servo, run, freeli]\n",
       "2           [use, gait, exist, six, leg, robot, pro, con]\n",
       "3             [good, microcontrollerssoc, robot, project]\n",
       "4       [nearestneighbor, data, structur, noneuclidean...\n",
       "                              ...                        \n",
       "2766                   [type, actuat, industri, bot, use]\n",
       "2767                    [techniqu, increas, pov, resolut]\n",
       "2768             [upload, sketch, arduino, raspberri, pi]\n",
       "2769              [ekf, slam, laser, scan, dataset, usag]\n",
       "2770                               [commun, swarm, robot]\n",
       "Name: title, Length: 2771, dtype: object"
      ]
     },
     "execution_count": 22,
     "metadata": {},
     "output_type": "execute_result"
    }
   ],
   "source": [
    "title = title.apply(tokenstem)\n",
    "title"
   ]
  },
  {
   "cell_type": "markdown",
   "metadata": {},
   "source": [
    "**Penjelasan**\n",
    "\n",
    "Lowercase = Fungsi yang mengubah huruf kapital menjadi huruf kecil.\n",
    "\n",
    "Regular Expression = Fungsi yang digunakan untuk menghapus angka.\n",
    "\n",
    "Punctuation = Fungsi yang digunakan untuk menghapus tanda baca.\n",
    "\n",
    "Fungsi strip, digunakan untuk menghapus white space yaitu spasi di awal ataupun di akhir kalimat.\n",
    "\n",
    "Tokenize = Proses pemisahan menjadi potongan kata.\n",
    "\n",
    "Lemmatizer = Menghilangkan akhiran infleksi dari suatu kata dan mengembalikan kata tersebut menjadi kata dasarnya, sebagai contohnya kata runs, running, dan ran akan diubah menjadi kata dasarnya yaitu run.\n",
    "\n",
    "Stemming = Tahapan pencarian dan pengubahan kata dasar dari tiap kata hasil Filtering.\n",
    "\n",
    "Stop Words = Kata umum yang biasanya muncul dalam jumlah besar dan dianggap tidak memiliki makna. Seperti, 'the'."
   ]
  },
  {
   "cell_type": "code",
   "execution_count": null,
   "metadata": {},
   "outputs": [],
   "source": []
  }
 ],
 "metadata": {
  "kernelspec": {
   "display_name": "Python 3",
   "language": "python",
   "name": "python3"
  },
  "language_info": {
   "codemirror_mode": {
    "name": "ipython",
    "version": 3
   },
   "file_extension": ".py",
   "mimetype": "text/x-python",
   "name": "python",
   "nbconvert_exporter": "python",
   "pygments_lexer": "ipython3",
   "version": "3.8.3"
  }
 },
 "nbformat": 4,
 "nbformat_minor": 4
}
