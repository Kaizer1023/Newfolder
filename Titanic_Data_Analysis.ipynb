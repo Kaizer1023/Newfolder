{
 "cells": [
  {
   "cell_type": "markdown",
   "metadata": {},
   "source": [
    "Importing Support Libraries"
   ]
  },
  {
   "cell_type": "code",
   "execution_count": 2,
   "metadata": {},
   "outputs": [],
   "source": [
    "import pandas as pd\n",
    "import numpy as np\n",
    "import seaborn as sns\n",
    "import matplotlib.pyplot as plt"
   ]
  },
  {
   "cell_type": "code",
   "execution_count": 3,
   "metadata": {},
   "outputs": [],
   "source": [
    "#Reading dataset"
   ]
  },
  {
   "cell_type": "code",
   "execution_count": 4,
   "metadata": {},
   "outputs": [],
   "source": [
    "data=pd.read_csv(\"d:\\log.csv\")"
   ]
  },
  {
   "cell_type": "code",
   "execution_count": 5,
   "metadata": {},
   "outputs": [
    {
     "data": {
      "text/html": [
       "<div>\n",
       "<style scoped>\n",
       "    .dataframe tbody tr th:only-of-type {\n",
       "        vertical-align: middle;\n",
       "    }\n",
       "\n",
       "    .dataframe tbody tr th {\n",
       "        vertical-align: top;\n",
       "    }\n",
       "\n",
       "    .dataframe thead th {\n",
       "        text-align: right;\n",
       "    }\n",
       "</style>\n",
       "<table border=\"1\" class=\"dataframe\">\n",
       "  <thead>\n",
       "    <tr style=\"text-align: right;\">\n",
       "      <th></th>\n",
       "      <th>PassengerId</th>\n",
       "      <th>Survived</th>\n",
       "      <th>Pclass</th>\n",
       "      <th>Name</th>\n",
       "      <th>Sex</th>\n",
       "      <th>Age</th>\n",
       "      <th>SibSp</th>\n",
       "      <th>Parch</th>\n",
       "      <th>Ticket</th>\n",
       "      <th>Fare</th>\n",
       "      <th>Cabin</th>\n",
       "      <th>Embarked</th>\n",
       "    </tr>\n",
       "  </thead>\n",
       "  <tbody>\n",
       "    <tr>\n",
       "      <th>0</th>\n",
       "      <td>892</td>\n",
       "      <td>a</td>\n",
       "      <td>3</td>\n",
       "      <td>Kelly, Mr. James</td>\n",
       "      <td>male</td>\n",
       "      <td>34.5</td>\n",
       "      <td>0</td>\n",
       "      <td>0</td>\n",
       "      <td>330911</td>\n",
       "      <td>7.8292</td>\n",
       "      <td>NaN</td>\n",
       "      <td>Q</td>\n",
       "    </tr>\n",
       "    <tr>\n",
       "      <th>1</th>\n",
       "      <td>893</td>\n",
       "      <td>b</td>\n",
       "      <td>3</td>\n",
       "      <td>Wilkes, Mrs. James (Ellen Needs)</td>\n",
       "      <td>female</td>\n",
       "      <td>47.0</td>\n",
       "      <td>1</td>\n",
       "      <td>0</td>\n",
       "      <td>363272</td>\n",
       "      <td>7.0000</td>\n",
       "      <td>NaN</td>\n",
       "      <td>S</td>\n",
       "    </tr>\n",
       "    <tr>\n",
       "      <th>2</th>\n",
       "      <td>894</td>\n",
       "      <td>a</td>\n",
       "      <td>2</td>\n",
       "      <td>Myles, Mr. Thomas Francis</td>\n",
       "      <td>male</td>\n",
       "      <td>62.0</td>\n",
       "      <td>0</td>\n",
       "      <td>0</td>\n",
       "      <td>240276</td>\n",
       "      <td>9.6875</td>\n",
       "      <td>NaN</td>\n",
       "      <td>Q</td>\n",
       "    </tr>\n",
       "    <tr>\n",
       "      <th>3</th>\n",
       "      <td>895</td>\n",
       "      <td>b</td>\n",
       "      <td>3</td>\n",
       "      <td>Wirz, Mr. Albert</td>\n",
       "      <td>male</td>\n",
       "      <td>27.0</td>\n",
       "      <td>0</td>\n",
       "      <td>0</td>\n",
       "      <td>315154</td>\n",
       "      <td>8.6625</td>\n",
       "      <td>NaN</td>\n",
       "      <td>S</td>\n",
       "    </tr>\n",
       "    <tr>\n",
       "      <th>4</th>\n",
       "      <td>896</td>\n",
       "      <td>b</td>\n",
       "      <td>3</td>\n",
       "      <td>Hirvonen, Mrs. Alexander (Helga E Lindqvist)</td>\n",
       "      <td>female</td>\n",
       "      <td>22.0</td>\n",
       "      <td>1</td>\n",
       "      <td>1</td>\n",
       "      <td>3101298</td>\n",
       "      <td>12.2875</td>\n",
       "      <td>NaN</td>\n",
       "      <td>S</td>\n",
       "    </tr>\n",
       "  </tbody>\n",
       "</table>\n",
       "</div>"
      ],
      "text/plain": [
       "   PassengerId Survived  Pclass                                          Name  \\\n",
       "0          892        a       3                              Kelly, Mr. James   \n",
       "1          893        b       3              Wilkes, Mrs. James (Ellen Needs)   \n",
       "2          894        a       2                     Myles, Mr. Thomas Francis   \n",
       "3          895        b       3                              Wirz, Mr. Albert   \n",
       "4          896        b       3  Hirvonen, Mrs. Alexander (Helga E Lindqvist)   \n",
       "\n",
       "      Sex   Age  SibSp  Parch   Ticket     Fare Cabin Embarked  \n",
       "0    male  34.5      0      0   330911   7.8292   NaN        Q  \n",
       "1  female  47.0      1      0   363272   7.0000   NaN        S  \n",
       "2    male  62.0      0      0   240276   9.6875   NaN        Q  \n",
       "3    male  27.0      0      0   315154   8.6625   NaN        S  \n",
       "4  female  22.0      1      1  3101298  12.2875   NaN        S  "
      ]
     },
     "execution_count": 5,
     "metadata": {},
     "output_type": "execute_result"
    }
   ],
   "source": [
    "data.head()"
   ]
  },
  {
   "cell_type": "code",
   "execution_count": 6,
   "metadata": {},
   "outputs": [
    {
     "data": {
      "text/plain": [
       "array(['Q', 'S', 'C'], dtype=object)"
      ]
     },
     "execution_count": 6,
     "metadata": {},
     "output_type": "execute_result"
    }
   ],
   "source": [
    "data['Embarked'].unique()"
   ]
  },
  {
   "cell_type": "code",
   "execution_count": 7,
   "metadata": {},
   "outputs": [
    {
     "name": "stdout",
     "output_type": "stream",
     "text": [
      "<class 'pandas.core.frame.DataFrame'>\n",
      "RangeIndex: 418 entries, 0 to 417\n",
      "Data columns (total 12 columns):\n",
      " #   Column       Non-Null Count  Dtype  \n",
      "---  ------       --------------  -----  \n",
      " 0   PassengerId  418 non-null    int64  \n",
      " 1   Survived     418 non-null    object \n",
      " 2   Pclass       418 non-null    int64  \n",
      " 3   Name         418 non-null    object \n",
      " 4   Sex          418 non-null    object \n",
      " 5   Age          332 non-null    float64\n",
      " 6   SibSp        418 non-null    int64  \n",
      " 7   Parch        418 non-null    int64  \n",
      " 8   Ticket       418 non-null    object \n",
      " 9   Fare         417 non-null    float64\n",
      " 10  Cabin        91 non-null     object \n",
      " 11  Embarked     418 non-null    object \n",
      "dtypes: float64(2), int64(4), object(6)\n",
      "memory usage: 39.3+ KB\n"
     ]
    }
   ],
   "source": [
    "data.info()"
   ]
  },
  {
   "cell_type": "code",
   "execution_count": 8,
   "metadata": {},
   "outputs": [
    {
     "data": {
      "text/plain": [
       "PassengerId      0\n",
       "Survived         0\n",
       "Pclass           0\n",
       "Name             0\n",
       "Sex              0\n",
       "Age             86\n",
       "SibSp            0\n",
       "Parch            0\n",
       "Ticket           0\n",
       "Fare             1\n",
       "Cabin          327\n",
       "Embarked         0\n",
       "dtype: int64"
      ]
     },
     "execution_count": 8,
     "metadata": {},
     "output_type": "execute_result"
    }
   ],
   "source": [
    "#finding missing values\n",
    "data.isnull().sum()"
   ]
  },
  {
   "cell_type": "code",
   "execution_count": 9,
   "metadata": {},
   "outputs": [],
   "source": [
    "#missing values on age=86,fare=1,cabin=327"
   ]
  },
  {
   "cell_type": "code",
   "execution_count": 10,
   "metadata": {},
   "outputs": [],
   "source": [
    "#analysing data"
   ]
  },
  {
   "cell_type": "code",
   "execution_count": 11,
   "metadata": {},
   "outputs": [
    {
     "data": {
      "text/plain": [
       "<matplotlib.axes._subplots.AxesSubplot at 0x247ccc12608>"
      ]
     },
     "execution_count": 11,
     "metadata": {},
     "output_type": "execute_result"
    },
    {
     "data": {
      "image/png": "[encoded data removed]",
      "text/plain": [
       "<Figure size 432x288 with 1 Axes>"
      ]
     },
     "metadata": {
      "needs_background": "light"
     },
     "output_type": "display_data"
    }
   ],
   "source": [
    "data[\"Age\"].plot.hist()"
   ]
  },
  {
   "cell_type": "code",
   "execution_count": 12,
   "metadata": {},
   "outputs": [
    {
     "data": {
      "text/plain": [
       "<matplotlib.axes._subplots.AxesSubplot at 0x247cd3a3688>"
      ]
     },
     "execution_count": 12,
     "metadata": {},
     "output_type": "execute_result"
    },
    {
     "data": {
      "image/png": "[encoded data removed]",
      "text/plain": [
       "<Figure size 720x360 with 1 Axes>"
      ]
     },
     "metadata": {
      "needs_background": "light"
     },
     "output_type": "display_data"
    }
   ],
   "source": [
    "data[\"Fare\"].plot.hist(bins=20,figsize=(10,5))"
   ]
  },
  {
   "cell_type": "code",
   "execution_count": 13,
   "metadata": {},
   "outputs": [
    {
     "data": {
      "text/plain": [
       "<matplotlib.axes._subplots.AxesSubplot at 0x247cd449248>"
      ]
     },
     "execution_count": 13,
     "metadata": {},
     "output_type": "execute_result"
    },
    {
     "data": {
      "image/png": "[encoded data removed]",
      "text/plain": [
       "<Figure size 432x288 with 1 Axes>"
      ]
     },
     "metadata": {
      "needs_background": "light"
     },
     "output_type": "display_data"
    }
   ],
   "source": [
    "sns.countplot(x=\"SibSp\",data=data)"
   ]
  },
  {
   "cell_type": "code",
   "execution_count": 14,
   "metadata": {},
   "outputs": [],
   "source": [
    "#data wrangling to clean null value as Nan"
   ]
  },
  {
   "cell_type": "code",
   "execution_count": 15,
   "metadata": {},
   "outputs": [
    {
     "data": {
      "text/plain": [
       "<matplotlib.axes._subplots.AxesSubplot at 0x247cd515208>"
      ]
     },
     "execution_count": 15,
     "metadata": {},
     "output_type": "execute_result"
    },
    {
     "data": {
      "image/png": "[encoded data removed]",
      "text/plain": [
       "<Figure size 432x288 with 2 Axes>"
      ]
     },
     "metadata": {
      "needs_background": "light"
     },
     "output_type": "display_data"
    }
   ],
   "source": [
    "sns.heatmap(data.isnull())"
   ]
  },
  {
   "cell_type": "code",
   "execution_count": 16,
   "metadata": {},
   "outputs": [
    {
     "data": {
      "text/plain": [
       "<matplotlib.axes._subplots.AxesSubplot at 0x247cd5b3c88>"
      ]
     },
     "execution_count": 16,
     "metadata": {},
     "output_type": "execute_result"
    },
    {
     "data": {
      "image/png": "[encoded data removed]",
      "text/plain": [
       "<Figure size 432x288 with 1 Axes>"
      ]
     },
     "metadata": {
      "needs_background": "light"
     },
     "output_type": "display_data"
    }
   ],
   "source": [
    "sns.boxplot(x=\"Pclass\",y=\"Age\",data=data)"
   ]
  },
  {
   "cell_type": "code",
   "execution_count": 17,
   "metadata": {},
   "outputs": [
    {
     "data": {
      "text/html": [
       "<div>\n",
       "<style scoped>\n",
       "    .dataframe tbody tr th:only-of-type {\n",
       "        vertical-align: middle;\n",
       "    }\n",
       "\n",
       "    .dataframe tbody tr th {\n",
       "        vertical-align: top;\n",
       "    }\n",
       "\n",
       "    .dataframe thead th {\n",
       "        text-align: right;\n",
       "    }\n",
       "</style>\n",
       "<table border=\"1\" class=\"dataframe\">\n",
       "  <thead>\n",
       "    <tr style=\"text-align: right;\">\n",
       "      <th></th>\n",
       "      <th>PassengerId</th>\n",
       "      <th>Survived</th>\n",
       "      <th>Pclass</th>\n",
       "      <th>Name</th>\n",
       "      <th>Sex</th>\n",
       "      <th>Age</th>\n",
       "      <th>SibSp</th>\n",
       "      <th>Parch</th>\n",
       "      <th>Ticket</th>\n",
       "      <th>Fare</th>\n",
       "      <th>Cabin</th>\n",
       "      <th>Embarked</th>\n",
       "    </tr>\n",
       "  </thead>\n",
       "  <tbody>\n",
       "    <tr>\n",
       "      <th>0</th>\n",
       "      <td>892</td>\n",
       "      <td>a</td>\n",
       "      <td>3</td>\n",
       "      <td>Kelly, Mr. James</td>\n",
       "      <td>male</td>\n",
       "      <td>34.5</td>\n",
       "      <td>0</td>\n",
       "      <td>0</td>\n",
       "      <td>330911</td>\n",
       "      <td>7.8292</td>\n",
       "      <td>NaN</td>\n",
       "      <td>Q</td>\n",
       "    </tr>\n",
       "    <tr>\n",
       "      <th>1</th>\n",
       "      <td>893</td>\n",
       "      <td>b</td>\n",
       "      <td>3</td>\n",
       "      <td>Wilkes, Mrs. James (Ellen Needs)</td>\n",
       "      <td>female</td>\n",
       "      <td>47.0</td>\n",
       "      <td>1</td>\n",
       "      <td>0</td>\n",
       "      <td>363272</td>\n",
       "      <td>7.0000</td>\n",
       "      <td>NaN</td>\n",
       "      <td>S</td>\n",
       "    </tr>\n",
       "    <tr>\n",
       "      <th>2</th>\n",
       "      <td>894</td>\n",
       "      <td>a</td>\n",
       "      <td>2</td>\n",
       "      <td>Myles, Mr. Thomas Francis</td>\n",
       "      <td>male</td>\n",
       "      <td>62.0</td>\n",
       "      <td>0</td>\n",
       "      <td>0</td>\n",
       "      <td>240276</td>\n",
       "      <td>9.6875</td>\n",
       "      <td>NaN</td>\n",
       "      <td>Q</td>\n",
       "    </tr>\n",
       "    <tr>\n",
       "      <th>3</th>\n",
       "      <td>895</td>\n",
       "      <td>b</td>\n",
       "      <td>3</td>\n",
       "      <td>Wirz, Mr. Albert</td>\n",
       "      <td>male</td>\n",
       "      <td>27.0</td>\n",
       "      <td>0</td>\n",
       "      <td>0</td>\n",
       "      <td>315154</td>\n",
       "      <td>8.6625</td>\n",
       "      <td>NaN</td>\n",
       "      <td>S</td>\n",
       "    </tr>\n",
       "    <tr>\n",
       "      <th>4</th>\n",
       "      <td>896</td>\n",
       "      <td>b</td>\n",
       "      <td>3</td>\n",
       "      <td>Hirvonen, Mrs. Alexander (Helga E Lindqvist)</td>\n",
       "      <td>female</td>\n",
       "      <td>22.0</td>\n",
       "      <td>1</td>\n",
       "      <td>1</td>\n",
       "      <td>3101298</td>\n",
       "      <td>12.2875</td>\n",
       "      <td>NaN</td>\n",
       "      <td>S</td>\n",
       "    </tr>\n",
       "  </tbody>\n",
       "</table>\n",
       "</div>"
      ],
      "text/plain": [
       "   PassengerId Survived  Pclass                                          Name  \\\n",
       "0          892        a       3                              Kelly, Mr. James   \n",
       "1          893        b       3              Wilkes, Mrs. James (Ellen Needs)   \n",
       "2          894        a       2                     Myles, Mr. Thomas Francis   \n",
       "3          895        b       3                              Wirz, Mr. Albert   \n",
       "4          896        b       3  Hirvonen, Mrs. Alexander (Helga E Lindqvist)   \n",
       "\n",
       "      Sex   Age  SibSp  Parch   Ticket     Fare Cabin Embarked  \n",
       "0    male  34.5      0      0   330911   7.8292   NaN        Q  \n",
       "1  female  47.0      1      0   363272   7.0000   NaN        S  \n",
       "2    male  62.0      0      0   240276   9.6875   NaN        Q  \n",
       "3    male  27.0      0      0   315154   8.6625   NaN        S  \n",
       "4  female  22.0      1      1  3101298  12.2875   NaN        S  "
      ]
     },
     "execution_count": 17,
     "metadata": {},
     "output_type": "execute_result"
    }
   ],
   "source": [
    "data.head()"
   ]
  },
  {
   "cell_type": "code",
   "execution_count": 18,
   "metadata": {},
   "outputs": [
    {
     "data": {
      "text/html": [
       "<div>\n",
       "<style scoped>\n",
       "    .dataframe tbody tr th:only-of-type {\n",
       "        vertical-align: middle;\n",
       "    }\n",
       "\n",
       "    .dataframe tbody tr th {\n",
       "        vertical-align: top;\n",
       "    }\n",
       "\n",
       "    .dataframe thead th {\n",
       "        text-align: right;\n",
       "    }\n",
       "</style>\n",
       "<table border=\"1\" class=\"dataframe\">\n",
       "  <thead>\n",
       "    <tr style=\"text-align: right;\">\n",
       "      <th></th>\n",
       "      <th>PassengerId</th>\n",
       "      <th>Survived</th>\n",
       "      <th>Pclass</th>\n",
       "      <th>Name</th>\n",
       "      <th>Sex</th>\n",
       "      <th>Age</th>\n",
       "      <th>SibSp</th>\n",
       "      <th>Parch</th>\n",
       "      <th>Ticket</th>\n",
       "      <th>Fare</th>\n",
       "      <th>Cabin</th>\n",
       "      <th>Embarked</th>\n",
       "    </tr>\n",
       "  </thead>\n",
       "  <tbody>\n",
       "    <tr>\n",
       "      <th>0</th>\n",
       "      <td>892</td>\n",
       "      <td>a</td>\n",
       "      <td>3</td>\n",
       "      <td>Kelly, Mr. James</td>\n",
       "      <td>male</td>\n",
       "      <td>34.5</td>\n",
       "      <td>0</td>\n",
       "      <td>0</td>\n",
       "      <td>330911</td>\n",
       "      <td>7.8292</td>\n",
       "      <td>NaN</td>\n",
       "      <td>Q</td>\n",
       "    </tr>\n",
       "    <tr>\n",
       "      <th>1</th>\n",
       "      <td>893</td>\n",
       "      <td>b</td>\n",
       "      <td>3</td>\n",
       "      <td>Wilkes, Mrs. James (Ellen Needs)</td>\n",
       "      <td>female</td>\n",
       "      <td>47.0</td>\n",
       "      <td>1</td>\n",
       "      <td>0</td>\n",
       "      <td>363272</td>\n",
       "      <td>7.0000</td>\n",
       "      <td>NaN</td>\n",
       "      <td>S</td>\n",
       "    </tr>\n",
       "    <tr>\n",
       "      <th>2</th>\n",
       "      <td>894</td>\n",
       "      <td>a</td>\n",
       "      <td>2</td>\n",
       "      <td>Myles, Mr. Thomas Francis</td>\n",
       "      <td>male</td>\n",
       "      <td>62.0</td>\n",
       "      <td>0</td>\n",
       "      <td>0</td>\n",
       "      <td>240276</td>\n",
       "      <td>9.6875</td>\n",
       "      <td>NaN</td>\n",
       "      <td>Q</td>\n",
       "    </tr>\n",
       "    <tr>\n",
       "      <th>3</th>\n",
       "      <td>895</td>\n",
       "      <td>b</td>\n",
       "      <td>3</td>\n",
       "      <td>Wirz, Mr. Albert</td>\n",
       "      <td>male</td>\n",
       "      <td>27.0</td>\n",
       "      <td>0</td>\n",
       "      <td>0</td>\n",
       "      <td>315154</td>\n",
       "      <td>8.6625</td>\n",
       "      <td>NaN</td>\n",
       "      <td>S</td>\n",
       "    </tr>\n",
       "    <tr>\n",
       "      <th>4</th>\n",
       "      <td>896</td>\n",
       "      <td>b</td>\n",
       "      <td>3</td>\n",
       "      <td>Hirvonen, Mrs. Alexander (Helga E Lindqvist)</td>\n",
       "      <td>female</td>\n",
       "      <td>22.0</td>\n",
       "      <td>1</td>\n",
       "      <td>1</td>\n",
       "      <td>3101298</td>\n",
       "      <td>12.2875</td>\n",
       "      <td>NaN</td>\n",
       "      <td>S</td>\n",
       "    </tr>\n",
       "  </tbody>\n",
       "</table>\n",
       "</div>"
      ],
      "text/plain": [
       "   PassengerId Survived  Pclass                                          Name  \\\n",
       "0          892        a       3                              Kelly, Mr. James   \n",
       "1          893        b       3              Wilkes, Mrs. James (Ellen Needs)   \n",
       "2          894        a       2                     Myles, Mr. Thomas Francis   \n",
       "3          895        b       3                              Wirz, Mr. Albert   \n",
       "4          896        b       3  Hirvonen, Mrs. Alexander (Helga E Lindqvist)   \n",
       "\n",
       "      Sex   Age  SibSp  Parch   Ticket     Fare Cabin Embarked  \n",
       "0    male  34.5      0      0   330911   7.8292   NaN        Q  \n",
       "1  female  47.0      1      0   363272   7.0000   NaN        S  \n",
       "2    male  62.0      0      0   240276   9.6875   NaN        Q  \n",
       "3    male  27.0      0      0   315154   8.6625   NaN        S  \n",
       "4  female  22.0      1      1  3101298  12.2875   NaN        S  "
      ]
     },
     "execution_count": 18,
     "metadata": {},
     "output_type": "execute_result"
    }
   ],
   "source": [
    "data1=data.copy()\n",
    "data1.head()"
   ]
  },
  {
   "cell_type": "code",
   "execution_count": 19,
   "metadata": {},
   "outputs": [
    {
     "data": {
      "text/html": [
       "<div>\n",
       "<style scoped>\n",
       "    .dataframe tbody tr th:only-of-type {\n",
       "        vertical-align: middle;\n",
       "    }\n",
       "\n",
       "    .dataframe tbody tr th {\n",
       "        vertical-align: top;\n",
       "    }\n",
       "\n",
       "    .dataframe thead th {\n",
       "        text-align: right;\n",
       "    }\n",
       "</style>\n",
       "<table border=\"1\" class=\"dataframe\">\n",
       "  <thead>\n",
       "    <tr style=\"text-align: right;\">\n",
       "      <th></th>\n",
       "      <th>Survived</th>\n",
       "      <th>Pclass</th>\n",
       "      <th>Name</th>\n",
       "      <th>Sex</th>\n",
       "      <th>Age</th>\n",
       "      <th>SibSp</th>\n",
       "      <th>Parch</th>\n",
       "      <th>Ticket</th>\n",
       "      <th>Fare</th>\n",
       "      <th>Embarked</th>\n",
       "    </tr>\n",
       "  </thead>\n",
       "  <tbody>\n",
       "    <tr>\n",
       "      <th>0</th>\n",
       "      <td>a</td>\n",
       "      <td>3</td>\n",
       "      <td>Kelly, Mr. James</td>\n",
       "      <td>male</td>\n",
       "      <td>34.5</td>\n",
       "      <td>0</td>\n",
       "      <td>0</td>\n",
       "      <td>330911</td>\n",
       "      <td>7.8292</td>\n",
       "      <td>Q</td>\n",
       "    </tr>\n",
       "    <tr>\n",
       "      <th>1</th>\n",
       "      <td>b</td>\n",
       "      <td>3</td>\n",
       "      <td>Wilkes, Mrs. James (Ellen Needs)</td>\n",
       "      <td>female</td>\n",
       "      <td>47.0</td>\n",
       "      <td>1</td>\n",
       "      <td>0</td>\n",
       "      <td>363272</td>\n",
       "      <td>7.0000</td>\n",
       "      <td>S</td>\n",
       "    </tr>\n",
       "    <tr>\n",
       "      <th>2</th>\n",
       "      <td>a</td>\n",
       "      <td>2</td>\n",
       "      <td>Myles, Mr. Thomas Francis</td>\n",
       "      <td>male</td>\n",
       "      <td>62.0</td>\n",
       "      <td>0</td>\n",
       "      <td>0</td>\n",
       "      <td>240276</td>\n",
       "      <td>9.6875</td>\n",
       "      <td>Q</td>\n",
       "    </tr>\n",
       "    <tr>\n",
       "      <th>3</th>\n",
       "      <td>b</td>\n",
       "      <td>3</td>\n",
       "      <td>Wirz, Mr. Albert</td>\n",
       "      <td>male</td>\n",
       "      <td>27.0</td>\n",
       "      <td>0</td>\n",
       "      <td>0</td>\n",
       "      <td>315154</td>\n",
       "      <td>8.6625</td>\n",
       "      <td>S</td>\n",
       "    </tr>\n",
       "    <tr>\n",
       "      <th>4</th>\n",
       "      <td>b</td>\n",
       "      <td>3</td>\n",
       "      <td>Hirvonen, Mrs. Alexander (Helga E Lindqvist)</td>\n",
       "      <td>female</td>\n",
       "      <td>22.0</td>\n",
       "      <td>1</td>\n",
       "      <td>1</td>\n",
       "      <td>3101298</td>\n",
       "      <td>12.2875</td>\n",
       "      <td>S</td>\n",
       "    </tr>\n",
       "  </tbody>\n",
       "</table>\n",
       "</div>"
      ],
      "text/plain": [
       "  Survived  Pclass                                          Name     Sex  \\\n",
       "0        a       3                              Kelly, Mr. James    male   \n",
       "1        b       3              Wilkes, Mrs. James (Ellen Needs)  female   \n",
       "2        a       2                     Myles, Mr. Thomas Francis    male   \n",
       "3        b       3                              Wirz, Mr. Albert    male   \n",
       "4        b       3  Hirvonen, Mrs. Alexander (Helga E Lindqvist)  female   \n",
       "\n",
       "    Age  SibSp  Parch   Ticket     Fare Embarked  \n",
       "0  34.5      0      0   330911   7.8292        Q  \n",
       "1  47.0      1      0   363272   7.0000        S  \n",
       "2  62.0      0      0   240276   9.6875        Q  \n",
       "3  27.0      0      0   315154   8.6625        S  \n",
       "4  22.0      1      1  3101298  12.2875        S  "
      ]
     },
     "execution_count": 19,
     "metadata": {},
     "output_type": "execute_result"
    }
   ],
   "source": [
    "data1=data1.drop(columns=[\"Cabin\",\"PassengerId\"],axis=1)\n",
    "data1.head()"
   ]
  },
  {
   "cell_type": "code",
   "execution_count": 20,
   "metadata": {},
   "outputs": [],
   "source": [
    "data2=data1.copy()"
   ]
  },
  {
   "cell_type": "code",
   "execution_count": 21,
   "metadata": {},
   "outputs": [
    {
     "data": {
      "text/plain": [
       "Survived     0\n",
       "Pclass       0\n",
       "Name         0\n",
       "Sex          0\n",
       "Age         86\n",
       "SibSp        0\n",
       "Parch        0\n",
       "Ticket       0\n",
       "Fare         1\n",
       "Embarked     0\n",
       "dtype: int64"
      ]
     },
     "execution_count": 21,
     "metadata": {},
     "output_type": "execute_result"
    }
   ],
   "source": [
    "data2.isnull().sum()"
   ]
  },
  {
   "cell_type": "code",
   "execution_count": 22,
   "metadata": {},
   "outputs": [],
   "source": [
    "data3=data2.dropna()"
   ]
  },
  {
   "cell_type": "code",
   "execution_count": 23,
   "metadata": {},
   "outputs": [
    {
     "name": "stdout",
     "output_type": "stream",
     "text": [
      "<class 'pandas.core.frame.DataFrame'>\n",
      "Int64Index: 331 entries, 0 to 415\n",
      "Data columns (total 10 columns):\n",
      " #   Column    Non-Null Count  Dtype  \n",
      "---  ------    --------------  -----  \n",
      " 0   Survived  331 non-null    object \n",
      " 1   Pclass    331 non-null    int64  \n",
      " 2   Name      331 non-null    object \n",
      " 3   Sex       331 non-null    object \n",
      " 4   Age       331 non-null    float64\n",
      " 5   SibSp     331 non-null    int64  \n",
      " 6   Parch     331 non-null    int64  \n",
      " 7   Ticket    331 non-null    object \n",
      " 8   Fare      331 non-null    float64\n",
      " 9   Embarked  331 non-null    object \n",
      "dtypes: float64(2), int64(3), object(5)\n",
      "memory usage: 28.4+ KB\n"
     ]
    }
   ],
   "source": [
    "data3.info()"
   ]
  },
  {
   "cell_type": "code",
   "execution_count": 24,
   "metadata": {},
   "outputs": [],
   "source": [
    "from sklearn.preprocessing import LabelEncoder"
   ]
  },
  {
   "cell_type": "code",
   "execution_count": 27,
   "metadata": {},
   "outputs": [
    {
     "data": {
      "text/plain": [
       "array(['Q', 'S', 'C'], dtype=object)"
      ]
     },
     "execution_count": 27,
     "metadata": {},
     "output_type": "execute_result"
    }
   ],
   "source": [
    "LE=LabelEncoder()\n",
    "data3['Embarked'].unique()"
   ]
  },
  {
   "cell_type": "code",
   "execution_count": 28,
   "metadata": {},
   "outputs": [
    {
     "name": "stderr",
     "output_type": "stream",
     "text": [
      "C:\\ProgramData\\Anaconda3\\lib\\site-packages\\ipykernel_launcher.py:1: SettingWithCopyWarning: \n",
      "A value is trying to be set on a copy of a slice from a DataFrame.\n",
      "Try using .loc[row_indexer,col_indexer] = value instead\n",
      "\n",
      "See the caveats in the documentation: https://pandas.pydata.org/pandas-docs/stable/user_guide/indexing.html#returning-a-view-versus-a-copy\n",
      "  \"\"\"Entry point for launching an IPython kernel.\n",
      "C:\\ProgramData\\Anaconda3\\lib\\site-packages\\ipykernel_launcher.py:3: SettingWithCopyWarning: \n",
      "A value is trying to be set on a copy of a slice from a DataFrame.\n",
      "Try using .loc[row_indexer,col_indexer] = value instead\n",
      "\n",
      "See the caveats in the documentation: https://pandas.pydata.org/pandas-docs/stable/user_guide/indexing.html#returning-a-view-versus-a-copy\n",
      "  This is separate from the ipykernel package so we can avoid doing imports until\n"
     ]
    },
    {
     "data": {
      "text/html": [
       "<div>\n",
       "<style scoped>\n",
       "    .dataframe tbody tr th:only-of-type {\n",
       "        vertical-align: middle;\n",
       "    }\n",
       "\n",
       "    .dataframe tbody tr th {\n",
       "        vertical-align: top;\n",
       "    }\n",
       "\n",
       "    .dataframe thead th {\n",
       "        text-align: right;\n",
       "    }\n",
       "</style>\n",
       "<table border=\"1\" class=\"dataframe\">\n",
       "  <thead>\n",
       "    <tr style=\"text-align: right;\">\n",
       "      <th></th>\n",
       "      <th>Survived</th>\n",
       "      <th>Pclass</th>\n",
       "      <th>Name</th>\n",
       "      <th>Sex</th>\n",
       "      <th>Age</th>\n",
       "      <th>SibSp</th>\n",
       "      <th>Parch</th>\n",
       "      <th>Ticket</th>\n",
       "      <th>Fare</th>\n",
       "      <th>Embarked</th>\n",
       "    </tr>\n",
       "  </thead>\n",
       "  <tbody>\n",
       "    <tr>\n",
       "      <th>0</th>\n",
       "      <td>0</td>\n",
       "      <td>3</td>\n",
       "      <td>Kelly, Mr. James</td>\n",
       "      <td>1</td>\n",
       "      <td>34.5</td>\n",
       "      <td>0</td>\n",
       "      <td>0</td>\n",
       "      <td>330911</td>\n",
       "      <td>7.8292</td>\n",
       "      <td>Q</td>\n",
       "    </tr>\n",
       "    <tr>\n",
       "      <th>1</th>\n",
       "      <td>1</td>\n",
       "      <td>3</td>\n",
       "      <td>Wilkes, Mrs. James (Ellen Needs)</td>\n",
       "      <td>0</td>\n",
       "      <td>47.0</td>\n",
       "      <td>1</td>\n",
       "      <td>0</td>\n",
       "      <td>363272</td>\n",
       "      <td>7.0000</td>\n",
       "      <td>S</td>\n",
       "    </tr>\n",
       "    <tr>\n",
       "      <th>2</th>\n",
       "      <td>0</td>\n",
       "      <td>2</td>\n",
       "      <td>Myles, Mr. Thomas Francis</td>\n",
       "      <td>1</td>\n",
       "      <td>62.0</td>\n",
       "      <td>0</td>\n",
       "      <td>0</td>\n",
       "      <td>240276</td>\n",
       "      <td>9.6875</td>\n",
       "      <td>Q</td>\n",
       "    </tr>\n",
       "    <tr>\n",
       "      <th>3</th>\n",
       "      <td>1</td>\n",
       "      <td>3</td>\n",
       "      <td>Wirz, Mr. Albert</td>\n",
       "      <td>1</td>\n",
       "      <td>27.0</td>\n",
       "      <td>0</td>\n",
       "      <td>0</td>\n",
       "      <td>315154</td>\n",
       "      <td>8.6625</td>\n",
       "      <td>S</td>\n",
       "    </tr>\n",
       "    <tr>\n",
       "      <th>4</th>\n",
       "      <td>1</td>\n",
       "      <td>3</td>\n",
       "      <td>Hirvonen, Mrs. Alexander (Helga E Lindqvist)</td>\n",
       "      <td>0</td>\n",
       "      <td>22.0</td>\n",
       "      <td>1</td>\n",
       "      <td>1</td>\n",
       "      <td>3101298</td>\n",
       "      <td>12.2875</td>\n",
       "      <td>S</td>\n",
       "    </tr>\n",
       "  </tbody>\n",
       "</table>\n",
       "</div>"
      ],
      "text/plain": [
       "   Survived  Pclass                                          Name  Sex   Age  \\\n",
       "0         0       3                              Kelly, Mr. James    1  34.5   \n",
       "1         1       3              Wilkes, Mrs. James (Ellen Needs)    0  47.0   \n",
       "2         0       2                     Myles, Mr. Thomas Francis    1  62.0   \n",
       "3         1       3                              Wirz, Mr. Albert    1  27.0   \n",
       "4         1       3  Hirvonen, Mrs. Alexander (Helga E Lindqvist)    0  22.0   \n",
       "\n",
       "   SibSp  Parch   Ticket     Fare Embarked  \n",
       "0      0      0   330911   7.8292        Q  \n",
       "1      1      0   363272   7.0000        S  \n",
       "2      0      0   240276   9.6875        Q  \n",
       "3      0      0   315154   8.6625        S  \n",
       "4      1      1  3101298  12.2875        S  "
      ]
     },
     "execution_count": 28,
     "metadata": {},
     "output_type": "execute_result"
    }
   ],
   "source": [
    "\n",
    "data3['Sex']=LE.fit_transform(data3['Sex'])\n",
    "\n",
    "data3['Survived']=LE.fit_transform(data3['Survived'])\n",
    "data3.head()\n"
   ]
  },
  {
   "cell_type": "code",
   "execution_count": 29,
   "metadata": {},
   "outputs": [
    {
     "name": "stdout",
     "output_type": "stream",
     "text": [
      "<class 'pandas.core.frame.DataFrame'>\n",
      "Int64Index: 331 entries, 0 to 415\n",
      "Data columns (total 10 columns):\n",
      " #   Column    Non-Null Count  Dtype  \n",
      "---  ------    --------------  -----  \n",
      " 0   Survived  331 non-null    int64  \n",
      " 1   Pclass    331 non-null    int64  \n",
      " 2   Name      331 non-null    object \n",
      " 3   Sex       331 non-null    int64  \n",
      " 4   Age       331 non-null    float64\n",
      " 5   SibSp     331 non-null    int64  \n",
      " 6   Parch     331 non-null    int64  \n",
      " 7   Ticket    331 non-null    object \n",
      " 8   Fare      331 non-null    float64\n",
      " 9   Embarked  331 non-null    object \n",
      "dtypes: float64(2), int64(5), object(3)\n",
      "memory usage: 28.4+ KB\n"
     ]
    }
   ],
   "source": [
    "data3.info()"
   ]
  },
  {
   "cell_type": "code",
   "execution_count": 30,
   "metadata": {},
   "outputs": [
    {
     "data": {
      "text/html": [
       "<div>\n",
       "<style scoped>\n",
       "    .dataframe tbody tr th:only-of-type {\n",
       "        vertical-align: middle;\n",
       "    }\n",
       "\n",
       "    .dataframe tbody tr th {\n",
       "        vertical-align: top;\n",
       "    }\n",
       "\n",
       "    .dataframe thead th {\n",
       "        text-align: right;\n",
       "    }\n",
       "</style>\n",
       "<table border=\"1\" class=\"dataframe\">\n",
       "  <thead>\n",
       "    <tr style=\"text-align: right;\">\n",
       "      <th></th>\n",
       "      <th>Embarked_Q</th>\n",
       "      <th>Embarked_S</th>\n",
       "    </tr>\n",
       "  </thead>\n",
       "  <tbody>\n",
       "    <tr>\n",
       "      <th>0</th>\n",
       "      <td>1</td>\n",
       "      <td>0</td>\n",
       "    </tr>\n",
       "    <tr>\n",
       "      <th>1</th>\n",
       "      <td>0</td>\n",
       "      <td>1</td>\n",
       "    </tr>\n",
       "    <tr>\n",
       "      <th>2</th>\n",
       "      <td>1</td>\n",
       "      <td>0</td>\n",
       "    </tr>\n",
       "    <tr>\n",
       "      <th>3</th>\n",
       "      <td>0</td>\n",
       "      <td>1</td>\n",
       "    </tr>\n",
       "    <tr>\n",
       "      <th>4</th>\n",
       "      <td>0</td>\n",
       "      <td>1</td>\n",
       "    </tr>\n",
       "  </tbody>\n",
       "</table>\n",
       "</div>"
      ],
      "text/plain": [
       "   Embarked_Q  Embarked_S\n",
       "0           1           0\n",
       "1           0           1\n",
       "2           1           0\n",
       "3           0           1\n",
       "4           0           1"
      ]
     },
     "execution_count": 30,
     "metadata": {},
     "output_type": "execute_result"
    }
   ],
   "source": [
    "data4=pd.get_dummies(data3['Embarked'],prefix='Embarked',drop_first=True)\n",
    "data4.head()\n"
   ]
  },
  {
   "cell_type": "code",
   "execution_count": 31,
   "metadata": {},
   "outputs": [
    {
     "data": {
      "text/html": [
       "<div>\n",
       "<style scoped>\n",
       "    .dataframe tbody tr th:only-of-type {\n",
       "        vertical-align: middle;\n",
       "    }\n",
       "\n",
       "    .dataframe tbody tr th {\n",
       "        vertical-align: top;\n",
       "    }\n",
       "\n",
       "    .dataframe thead th {\n",
       "        text-align: right;\n",
       "    }\n",
       "</style>\n",
       "<table border=\"1\" class=\"dataframe\">\n",
       "  <thead>\n",
       "    <tr style=\"text-align: right;\">\n",
       "      <th></th>\n",
       "      <th>Survived</th>\n",
       "      <th>Pclass</th>\n",
       "      <th>Name</th>\n",
       "      <th>Sex</th>\n",
       "      <th>Age</th>\n",
       "      <th>SibSp</th>\n",
       "      <th>Parch</th>\n",
       "      <th>Ticket</th>\n",
       "      <th>Fare</th>\n",
       "      <th>Embarked_Q</th>\n",
       "      <th>Embarked_S</th>\n",
       "    </tr>\n",
       "  </thead>\n",
       "  <tbody>\n",
       "    <tr>\n",
       "      <th>0</th>\n",
       "      <td>0</td>\n",
       "      <td>3</td>\n",
       "      <td>Kelly, Mr. James</td>\n",
       "      <td>1</td>\n",
       "      <td>34.5</td>\n",
       "      <td>0</td>\n",
       "      <td>0</td>\n",
       "      <td>330911</td>\n",
       "      <td>7.8292</td>\n",
       "      <td>1</td>\n",
       "      <td>0</td>\n",
       "    </tr>\n",
       "    <tr>\n",
       "      <th>1</th>\n",
       "      <td>1</td>\n",
       "      <td>3</td>\n",
       "      <td>Wilkes, Mrs. James (Ellen Needs)</td>\n",
       "      <td>0</td>\n",
       "      <td>47.0</td>\n",
       "      <td>1</td>\n",
       "      <td>0</td>\n",
       "      <td>363272</td>\n",
       "      <td>7.0000</td>\n",
       "      <td>0</td>\n",
       "      <td>1</td>\n",
       "    </tr>\n",
       "    <tr>\n",
       "      <th>2</th>\n",
       "      <td>0</td>\n",
       "      <td>2</td>\n",
       "      <td>Myles, Mr. Thomas Francis</td>\n",
       "      <td>1</td>\n",
       "      <td>62.0</td>\n",
       "      <td>0</td>\n",
       "      <td>0</td>\n",
       "      <td>240276</td>\n",
       "      <td>9.6875</td>\n",
       "      <td>1</td>\n",
       "      <td>0</td>\n",
       "    </tr>\n",
       "    <tr>\n",
       "      <th>3</th>\n",
       "      <td>1</td>\n",
       "      <td>3</td>\n",
       "      <td>Wirz, Mr. Albert</td>\n",
       "      <td>1</td>\n",
       "      <td>27.0</td>\n",
       "      <td>0</td>\n",
       "      <td>0</td>\n",
       "      <td>315154</td>\n",
       "      <td>8.6625</td>\n",
       "      <td>0</td>\n",
       "      <td>1</td>\n",
       "    </tr>\n",
       "    <tr>\n",
       "      <th>4</th>\n",
       "      <td>1</td>\n",
       "      <td>3</td>\n",
       "      <td>Hirvonen, Mrs. Alexander (Helga E Lindqvist)</td>\n",
       "      <td>0</td>\n",
       "      <td>22.0</td>\n",
       "      <td>1</td>\n",
       "      <td>1</td>\n",
       "      <td>3101298</td>\n",
       "      <td>12.2875</td>\n",
       "      <td>0</td>\n",
       "      <td>1</td>\n",
       "    </tr>\n",
       "  </tbody>\n",
       "</table>\n",
       "</div>"
      ],
      "text/plain": [
       "   Survived  Pclass                                          Name  Sex   Age  \\\n",
       "0         0       3                              Kelly, Mr. James    1  34.5   \n",
       "1         1       3              Wilkes, Mrs. James (Ellen Needs)    0  47.0   \n",
       "2         0       2                     Myles, Mr. Thomas Francis    1  62.0   \n",
       "3         1       3                              Wirz, Mr. Albert    1  27.0   \n",
       "4         1       3  Hirvonen, Mrs. Alexander (Helga E Lindqvist)    0  22.0   \n",
       "\n",
       "   SibSp  Parch   Ticket     Fare  Embarked_Q  Embarked_S  \n",
       "0      0      0   330911   7.8292           1           0  \n",
       "1      1      0   363272   7.0000           0           1  \n",
       "2      0      0   240276   9.6875           1           0  \n",
       "3      0      0   315154   8.6625           0           1  \n",
       "4      1      1  3101298  12.2875           0           1  "
      ]
     },
     "execution_count": 31,
     "metadata": {},
     "output_type": "execute_result"
    }
   ],
   "source": [
    "data5=pd.concat([data3,data4],axis=1)\n",
    "data6=data5.drop(columns=['Embarked'],axis=1)\n",
    "data6.head()"
   ]
  },
  {
   "cell_type": "code",
   "execution_count": 32,
   "metadata": {},
   "outputs": [
    {
     "name": "stdout",
     "output_type": "stream",
     "text": [
      "<class 'pandas.core.frame.DataFrame'>\n",
      "Int64Index: 331 entries, 0 to 415\n",
      "Data columns (total 11 columns):\n",
      " #   Column      Non-Null Count  Dtype  \n",
      "---  ------      --------------  -----  \n",
      " 0   Survived    331 non-null    int64  \n",
      " 1   Pclass      331 non-null    int64  \n",
      " 2   Name        331 non-null    object \n",
      " 3   Sex         331 non-null    int64  \n",
      " 4   Age         331 non-null    float64\n",
      " 5   SibSp       331 non-null    int64  \n",
      " 6   Parch       331 non-null    int64  \n",
      " 7   Ticket      331 non-null    object \n",
      " 8   Fare        331 non-null    float64\n",
      " 9   Embarked_Q  331 non-null    uint8  \n",
      " 10  Embarked_S  331 non-null    uint8  \n",
      "dtypes: float64(2), int64(5), object(2), uint8(2)\n",
      "memory usage: 26.5+ KB\n"
     ]
    }
   ],
   "source": [
    "data6.info()"
   ]
  },
  {
   "cell_type": "code",
   "execution_count": 33,
   "metadata": {},
   "outputs": [
    {
     "data": {
      "text/html": [
       "<div>\n",
       "<style scoped>\n",
       "    .dataframe tbody tr th:only-of-type {\n",
       "        vertical-align: middle;\n",
       "    }\n",
       "\n",
       "    .dataframe tbody tr th {\n",
       "        vertical-align: top;\n",
       "    }\n",
       "\n",
       "    .dataframe thead th {\n",
       "        text-align: right;\n",
       "    }\n",
       "</style>\n",
       "<table border=\"1\" class=\"dataframe\">\n",
       "  <thead>\n",
       "    <tr style=\"text-align: right;\">\n",
       "      <th></th>\n",
       "      <th>Survived</th>\n",
       "      <th>Name</th>\n",
       "      <th>Sex</th>\n",
       "      <th>Age</th>\n",
       "      <th>SibSp</th>\n",
       "      <th>Parch</th>\n",
       "      <th>Ticket</th>\n",
       "      <th>Fare</th>\n",
       "      <th>Embarked_Q</th>\n",
       "      <th>Embarked_S</th>\n",
       "      <th>Pclass_2</th>\n",
       "      <th>Pclass_3</th>\n",
       "    </tr>\n",
       "  </thead>\n",
       "  <tbody>\n",
       "    <tr>\n",
       "      <th>0</th>\n",
       "      <td>0</td>\n",
       "      <td>Kelly, Mr. James</td>\n",
       "      <td>1</td>\n",
       "      <td>34.5</td>\n",
       "      <td>0</td>\n",
       "      <td>0</td>\n",
       "      <td>330911</td>\n",
       "      <td>7.8292</td>\n",
       "      <td>1</td>\n",
       "      <td>0</td>\n",
       "      <td>0</td>\n",
       "      <td>1</td>\n",
       "    </tr>\n",
       "    <tr>\n",
       "      <th>1</th>\n",
       "      <td>1</td>\n",
       "      <td>Wilkes, Mrs. James (Ellen Needs)</td>\n",
       "      <td>0</td>\n",
       "      <td>47.0</td>\n",
       "      <td>1</td>\n",
       "      <td>0</td>\n",
       "      <td>363272</td>\n",
       "      <td>7.0000</td>\n",
       "      <td>0</td>\n",
       "      <td>1</td>\n",
       "      <td>0</td>\n",
       "      <td>1</td>\n",
       "    </tr>\n",
       "    <tr>\n",
       "      <th>2</th>\n",
       "      <td>0</td>\n",
       "      <td>Myles, Mr. Thomas Francis</td>\n",
       "      <td>1</td>\n",
       "      <td>62.0</td>\n",
       "      <td>0</td>\n",
       "      <td>0</td>\n",
       "      <td>240276</td>\n",
       "      <td>9.6875</td>\n",
       "      <td>1</td>\n",
       "      <td>0</td>\n",
       "      <td>1</td>\n",
       "      <td>0</td>\n",
       "    </tr>\n",
       "    <tr>\n",
       "      <th>3</th>\n",
       "      <td>1</td>\n",
       "      <td>Wirz, Mr. Albert</td>\n",
       "      <td>1</td>\n",
       "      <td>27.0</td>\n",
       "      <td>0</td>\n",
       "      <td>0</td>\n",
       "      <td>315154</td>\n",
       "      <td>8.6625</td>\n",
       "      <td>0</td>\n",
       "      <td>1</td>\n",
       "      <td>0</td>\n",
       "      <td>1</td>\n",
       "    </tr>\n",
       "    <tr>\n",
       "      <th>4</th>\n",
       "      <td>1</td>\n",
       "      <td>Hirvonen, Mrs. Alexander (Helga E Lindqvist)</td>\n",
       "      <td>0</td>\n",
       "      <td>22.0</td>\n",
       "      <td>1</td>\n",
       "      <td>1</td>\n",
       "      <td>3101298</td>\n",
       "      <td>12.2875</td>\n",
       "      <td>0</td>\n",
       "      <td>1</td>\n",
       "      <td>0</td>\n",
       "      <td>1</td>\n",
       "    </tr>\n",
       "  </tbody>\n",
       "</table>\n",
       "</div>"
      ],
      "text/plain": [
       "   Survived                                          Name  Sex   Age  SibSp  \\\n",
       "0         0                              Kelly, Mr. James    1  34.5      0   \n",
       "1         1              Wilkes, Mrs. James (Ellen Needs)    0  47.0      1   \n",
       "2         0                     Myles, Mr. Thomas Francis    1  62.0      0   \n",
       "3         1                              Wirz, Mr. Albert    1  27.0      0   \n",
       "4         1  Hirvonen, Mrs. Alexander (Helga E Lindqvist)    0  22.0      1   \n",
       "\n",
       "   Parch   Ticket     Fare  Embarked_Q  Embarked_S  Pclass_2  Pclass_3  \n",
       "0      0   330911   7.8292           1           0         0         1  \n",
       "1      0   363272   7.0000           0           1         0         1  \n",
       "2      0   240276   9.6875           1           0         1         0  \n",
       "3      0   315154   8.6625           0           1         0         1  \n",
       "4      1  3101298  12.2875           0           1         0         1  "
      ]
     },
     "execution_count": 33,
     "metadata": {},
     "output_type": "execute_result"
    }
   ],
   "source": [
    "data7=pd.get_dummies(data6,prefix='Pclass',columns=['Pclass'],drop_first=True)\n",
    "data7.head()\n"
   ]
  },
  {
   "cell_type": "code",
   "execution_count": 34,
   "metadata": {},
   "outputs": [],
   "source": [
    "data8=data7.drop(columns=['Name'])"
   ]
  },
  {
   "cell_type": "code",
   "execution_count": 35,
   "metadata": {},
   "outputs": [],
   "source": [
    "data8=data8.drop(columns=['Ticket'])"
   ]
  },
  {
   "cell_type": "code",
   "execution_count": 36,
   "metadata": {},
   "outputs": [
    {
     "data": {
      "text/html": [
       "<div>\n",
       "<style scoped>\n",
       "    .dataframe tbody tr th:only-of-type {\n",
       "        vertical-align: middle;\n",
       "    }\n",
       "\n",
       "    .dataframe tbody tr th {\n",
       "        vertical-align: top;\n",
       "    }\n",
       "\n",
       "    .dataframe thead th {\n",
       "        text-align: right;\n",
       "    }\n",
       "</style>\n",
       "<table border=\"1\" class=\"dataframe\">\n",
       "  <thead>\n",
       "    <tr style=\"text-align: right;\">\n",
       "      <th></th>\n",
       "      <th>Survived</th>\n",
       "      <th>Sex</th>\n",
       "      <th>Age</th>\n",
       "      <th>SibSp</th>\n",
       "      <th>Parch</th>\n",
       "      <th>Fare</th>\n",
       "      <th>Embarked_Q</th>\n",
       "      <th>Embarked_S</th>\n",
       "      <th>Pclass_2</th>\n",
       "      <th>Pclass_3</th>\n",
       "    </tr>\n",
       "  </thead>\n",
       "  <tbody>\n",
       "    <tr>\n",
       "      <th>0</th>\n",
       "      <td>0</td>\n",
       "      <td>1</td>\n",
       "      <td>34.5</td>\n",
       "      <td>0</td>\n",
       "      <td>0</td>\n",
       "      <td>7.8292</td>\n",
       "      <td>1</td>\n",
       "      <td>0</td>\n",
       "      <td>0</td>\n",
       "      <td>1</td>\n",
       "    </tr>\n",
       "    <tr>\n",
       "      <th>1</th>\n",
       "      <td>1</td>\n",
       "      <td>0</td>\n",
       "      <td>47.0</td>\n",
       "      <td>1</td>\n",
       "      <td>0</td>\n",
       "      <td>7.0000</td>\n",
       "      <td>0</td>\n",
       "      <td>1</td>\n",
       "      <td>0</td>\n",
       "      <td>1</td>\n",
       "    </tr>\n",
       "    <tr>\n",
       "      <th>2</th>\n",
       "      <td>0</td>\n",
       "      <td>1</td>\n",
       "      <td>62.0</td>\n",
       "      <td>0</td>\n",
       "      <td>0</td>\n",
       "      <td>9.6875</td>\n",
       "      <td>1</td>\n",
       "      <td>0</td>\n",
       "      <td>1</td>\n",
       "      <td>0</td>\n",
       "    </tr>\n",
       "    <tr>\n",
       "      <th>3</th>\n",
       "      <td>1</td>\n",
       "      <td>1</td>\n",
       "      <td>27.0</td>\n",
       "      <td>0</td>\n",
       "      <td>0</td>\n",
       "      <td>8.6625</td>\n",
       "      <td>0</td>\n",
       "      <td>1</td>\n",
       "      <td>0</td>\n",
       "      <td>1</td>\n",
       "    </tr>\n",
       "    <tr>\n",
       "      <th>4</th>\n",
       "      <td>1</td>\n",
       "      <td>0</td>\n",
       "      <td>22.0</td>\n",
       "      <td>1</td>\n",
       "      <td>1</td>\n",
       "      <td>12.2875</td>\n",
       "      <td>0</td>\n",
       "      <td>1</td>\n",
       "      <td>0</td>\n",
       "      <td>1</td>\n",
       "    </tr>\n",
       "  </tbody>\n",
       "</table>\n",
       "</div>"
      ],
      "text/plain": [
       "   Survived  Sex   Age  SibSp  Parch     Fare  Embarked_Q  Embarked_S  \\\n",
       "0         0    1  34.5      0      0   7.8292           1           0   \n",
       "1         1    0  47.0      1      0   7.0000           0           1   \n",
       "2         0    1  62.0      0      0   9.6875           1           0   \n",
       "3         1    1  27.0      0      0   8.6625           0           1   \n",
       "4         1    0  22.0      1      1  12.2875           0           1   \n",
       "\n",
       "   Pclass_2  Pclass_3  \n",
       "0         0         1  \n",
       "1         0         1  \n",
       "2         1         0  \n",
       "3         0         1  \n",
       "4         0         1  "
      ]
     },
     "execution_count": 36,
     "metadata": {},
     "output_type": "execute_result"
    }
   ],
   "source": [
    "data8.head()"
   ]
  },
  {
   "cell_type": "code",
   "execution_count": 38,
   "metadata": {},
   "outputs": [
    {
     "data": {
      "text/html": [
       "<div>\n",
       "<style scoped>\n",
       "    .dataframe tbody tr th:only-of-type {\n",
       "        vertical-align: middle;\n",
       "    }\n",
       "\n",
       "    .dataframe tbody tr th {\n",
       "        vertical-align: top;\n",
       "    }\n",
       "\n",
       "    .dataframe thead th {\n",
       "        text-align: right;\n",
       "    }\n",
       "</style>\n",
       "<table border=\"1\" class=\"dataframe\">\n",
       "  <thead>\n",
       "    <tr style=\"text-align: right;\">\n",
       "      <th></th>\n",
       "      <th>Survived</th>\n",
       "      <th>Sex</th>\n",
       "      <th>Age</th>\n",
       "      <th>SibSp</th>\n",
       "      <th>Parch</th>\n",
       "      <th>Fare</th>\n",
       "      <th>Embarked_Q</th>\n",
       "      <th>Embarked_S</th>\n",
       "      <th>Pclass_2</th>\n",
       "      <th>Pclass_3</th>\n",
       "    </tr>\n",
       "  </thead>\n",
       "  <tbody>\n",
       "    <tr>\n",
       "      <th>Survived</th>\n",
       "      <td>1.000000</td>\n",
       "      <td>-0.044968</td>\n",
       "      <td>0.045769</td>\n",
       "      <td>-0.026514</td>\n",
       "      <td>0.057788</td>\n",
       "      <td>0.041688</td>\n",
       "      <td>0.101104</td>\n",
       "      <td>-0.053455</td>\n",
       "      <td>0.019757</td>\n",
       "      <td>-0.036902</td>\n",
       "    </tr>\n",
       "    <tr>\n",
       "      <th>Sex</th>\n",
       "      <td>-0.044968</td>\n",
       "      <td>1.000000</td>\n",
       "      <td>-0.005104</td>\n",
       "      <td>-0.075450</td>\n",
       "      <td>-0.163710</td>\n",
       "      <td>-0.192672</td>\n",
       "      <td>-0.088764</td>\n",
       "      <td>0.121749</td>\n",
       "      <td>0.066999</td>\n",
       "      <td>0.070554</td>\n",
       "    </tr>\n",
       "    <tr>\n",
       "      <th>Age</th>\n",
       "      <td>0.045769</td>\n",
       "      <td>-0.005104</td>\n",
       "      <td>1.000000</td>\n",
       "      <td>-0.088679</td>\n",
       "      <td>-0.058506</td>\n",
       "      <td>0.337932</td>\n",
       "      <td>-0.016352</td>\n",
       "      <td>-0.163895</td>\n",
       "      <td>-0.059983</td>\n",
       "      <td>-0.401545</td>\n",
       "    </tr>\n",
       "    <tr>\n",
       "      <th>SibSp</th>\n",
       "      <td>-0.026514</td>\n",
       "      <td>-0.075450</td>\n",
       "      <td>-0.088679</td>\n",
       "      <td>1.000000</td>\n",
       "      <td>0.350736</td>\n",
       "      <td>0.151836</td>\n",
       "      <td>-0.078218</td>\n",
       "      <td>0.083968</td>\n",
       "      <td>-0.058999</td>\n",
       "      <td>0.027247</td>\n",
       "    </tr>\n",
       "    <tr>\n",
       "      <th>Parch</th>\n",
       "      <td>0.057788</td>\n",
       "      <td>-0.163710</td>\n",
       "      <td>-0.058506</td>\n",
       "      <td>0.350736</td>\n",
       "      <td>1.000000</td>\n",
       "      <td>0.246088</td>\n",
       "      <td>-0.116345</td>\n",
       "      <td>0.035935</td>\n",
       "      <td>-0.026107</td>\n",
       "      <td>0.008831</td>\n",
       "    </tr>\n",
       "    <tr>\n",
       "      <th>Fare</th>\n",
       "      <td>0.041688</td>\n",
       "      <td>-0.192672</td>\n",
       "      <td>0.337932</td>\n",
       "      <td>0.151836</td>\n",
       "      <td>0.246088</td>\n",
       "      <td>1.000000</td>\n",
       "      <td>-0.122554</td>\n",
       "      <td>-0.266957</td>\n",
       "      <td>-0.180853</td>\n",
       "      <td>-0.418244</td>\n",
       "    </tr>\n",
       "    <tr>\n",
       "      <th>Embarked_Q</th>\n",
       "      <td>0.101104</td>\n",
       "      <td>-0.088764</td>\n",
       "      <td>-0.016352</td>\n",
       "      <td>-0.078218</td>\n",
       "      <td>-0.116345</td>\n",
       "      <td>-0.122554</td>\n",
       "      <td>1.000000</td>\n",
       "      <td>-0.394211</td>\n",
       "      <td>-0.078213</td>\n",
       "      <td>0.204425</td>\n",
       "    </tr>\n",
       "    <tr>\n",
       "      <th>Embarked_S</th>\n",
       "      <td>-0.053455</td>\n",
       "      <td>0.121749</td>\n",
       "      <td>-0.163895</td>\n",
       "      <td>0.083968</td>\n",
       "      <td>0.035935</td>\n",
       "      <td>-0.266957</td>\n",
       "      <td>-0.394211</td>\n",
       "      <td>1.000000</td>\n",
       "      <td>0.230545</td>\n",
       "      <td>0.112273</td>\n",
       "    </tr>\n",
       "    <tr>\n",
       "      <th>Pclass_2</th>\n",
       "      <td>0.019757</td>\n",
       "      <td>0.066999</td>\n",
       "      <td>-0.059983</td>\n",
       "      <td>-0.058999</td>\n",
       "      <td>-0.026107</td>\n",
       "      <td>-0.180853</td>\n",
       "      <td>-0.078213</td>\n",
       "      <td>0.230545</td>\n",
       "      <td>1.000000</td>\n",
       "      <td>-0.531332</td>\n",
       "    </tr>\n",
       "    <tr>\n",
       "      <th>Pclass_3</th>\n",
       "      <td>-0.036902</td>\n",
       "      <td>0.070554</td>\n",
       "      <td>-0.401545</td>\n",
       "      <td>0.027247</td>\n",
       "      <td>0.008831</td>\n",
       "      <td>-0.418244</td>\n",
       "      <td>0.204425</td>\n",
       "      <td>0.112273</td>\n",
       "      <td>-0.531332</td>\n",
       "      <td>1.000000</td>\n",
       "    </tr>\n",
       "  </tbody>\n",
       "</table>\n",
       "</div>"
      ],
      "text/plain": [
       "            Survived       Sex       Age     SibSp     Parch      Fare  \\\n",
       "Survived    1.000000 -0.044968  0.045769 -0.026514  0.057788  0.041688   \n",
       "Sex        -0.044968  1.000000 -0.005104 -0.075450 -0.163710 -0.192672   \n",
       "Age         0.045769 -0.005104  1.000000 -0.088679 -0.058506  0.337932   \n",
       "SibSp      -0.026514 -0.075450 -0.088679  1.000000  0.350736  0.151836   \n",
       "Parch       0.057788 -0.163710 -0.058506  0.350736  1.000000  0.246088   \n",
       "Fare        0.041688 -0.192672  0.337932  0.151836  0.246088  1.000000   \n",
       "Embarked_Q  0.101104 -0.088764 -0.016352 -0.078218 -0.116345 -0.122554   \n",
       "Embarked_S -0.053455  0.121749 -0.163895  0.083968  0.035935 -0.266957   \n",
       "Pclass_2    0.019757  0.066999 -0.059983 -0.058999 -0.026107 -0.180853   \n",
       "Pclass_3   -0.036902  0.070554 -0.401545  0.027247  0.008831 -0.418244   \n",
       "\n",
       "            Embarked_Q  Embarked_S  Pclass_2  Pclass_3  \n",
       "Survived      0.101104   -0.053455  0.019757 -0.036902  \n",
       "Sex          -0.088764    0.121749  0.066999  0.070554  \n",
       "Age          -0.016352   -0.163895 -0.059983 -0.401545  \n",
       "SibSp        -0.078218    0.083968 -0.058999  0.027247  \n",
       "Parch        -0.116345    0.035935 -0.026107  0.008831  \n",
       "Fare         -0.122554   -0.266957 -0.180853 -0.418244  \n",
       "Embarked_Q    1.000000   -0.394211 -0.078213  0.204425  \n",
       "Embarked_S   -0.394211    1.000000  0.230545  0.112273  \n",
       "Pclass_2     -0.078213    0.230545  1.000000 -0.531332  \n",
       "Pclass_3      0.204425    0.112273 -0.531332  1.000000  "
      ]
     },
     "execution_count": 38,
     "metadata": {},
     "output_type": "execute_result"
    }
   ],
   "source": [
    "correlation=data8.corr(method='pearson')\n",
    "correlation"
   ]
  },
  {
   "cell_type": "code",
   "execution_count": 40,
   "metadata": {},
   "outputs": [
    {
     "data": {
      "text/plain": [
       "<matplotlib.axes._subplots.AxesSubplot at 0x247cd6d3288>"
      ]
     },
     "execution_count": 40,
     "metadata": {},
     "output_type": "execute_result"
    },
    {
     "data": {
      "image/png": "[encoded data removed]",
      "text/plain": [
       "<Figure size 432x288 with 2 Axes>"
      ]
     },
     "metadata": {
      "needs_background": "light"
     },
     "output_type": "display_data"
    }
   ],
   "source": [
    "sns.heatmap(correlation,annot=True)"
   ]
  },
  {
   "cell_type": "code",
   "execution_count": 129,
   "metadata": {},
   "outputs": [],
   "source": [
    "#Now Spliting data into train and train set"
   ]
  },
  {
   "cell_type": "code",
   "execution_count": 44,
   "metadata": {},
   "outputs": [],
   "source": [
    "x=data8.iloc[:,1:]\n",
    "y=data8['Survived']"
   ]
  },
  {
   "cell_type": "code",
   "execution_count": 45,
   "metadata": {},
   "outputs": [],
   "source": [
    "from sklearn.linear_model import LogisticRegression\n",
    "from sklearn.model_selection import train_test_split"
   ]
  },
  {
   "cell_type": "code",
   "execution_count": 46,
   "metadata": {},
   "outputs": [],
   "source": [
    "x_train,x_test,y_train,y_test=train_test_split(x,y,test_size=0.3,random_state=1)"
   ]
  },
  {
   "cell_type": "code",
   "execution_count": 47,
   "metadata": {},
   "outputs": [],
   "source": [
    "logisticmodel=LogisticRegression()"
   ]
  },
  {
   "cell_type": "code",
   "execution_count": 48,
   "metadata": {},
   "outputs": [
    {
     "name": "stderr",
     "output_type": "stream",
     "text": [
      "C:\\ProgramData\\Anaconda3\\lib\\site-packages\\sklearn\\linear_model\\_logistic.py:940: ConvergenceWarning: lbfgs failed to converge (status=1):\n",
      "STOP: TOTAL NO. of ITERATIONS REACHED LIMIT.\n",
      "\n",
      "Increase the number of iterations (max_iter) or scale the data as shown in:\n",
      "    https://scikit-learn.org/stable/modules/preprocessing.html\n",
      "Please also refer to the documentation for alternative solver options:\n",
      "    https://scikit-learn.org/stable/modules/linear_model.html#logistic-regression\n",
      "  extra_warning_msg=_LOGISTIC_SOLVER_CONVERGENCE_MSG)\n"
     ]
    },
    {
     "data": {
      "text/plain": [
       "LogisticRegression(C=1.0, class_weight=None, dual=False, fit_intercept=True,\n",
       "                   intercept_scaling=1, l1_ratio=None, max_iter=100,\n",
       "                   multi_class='auto', n_jobs=None, penalty='l2',\n",
       "                   random_state=None, solver='lbfgs', tol=0.0001, verbose=0,\n",
       "                   warm_start=False)"
      ]
     },
     "execution_count": 48,
     "metadata": {},
     "output_type": "execute_result"
    }
   ],
   "source": [
    "logisticmodel.fit(x_train,y_train)"
   ]
  },
  {
   "cell_type": "code",
   "execution_count": 49,
   "metadata": {},
   "outputs": [],
   "source": [
    "predictions=logisticmodel.predict(x_test)"
   ]
  },
  {
   "cell_type": "code",
   "execution_count": 50,
   "metadata": {},
   "outputs": [],
   "source": [
    "from sklearn.metrics import classification_report"
   ]
  },
  {
   "cell_type": "code",
   "execution_count": 51,
   "metadata": {},
   "outputs": [
    {
     "data": {
      "text/plain": [
       "'              precision    recall  f1-score   support\\n\\n           0       0.25      0.05      0.08        41\\n           1       0.58      0.90      0.70        59\\n\\n    accuracy                           0.55       100\\n   macro avg       0.41      0.47      0.39       100\\nweighted avg       0.44      0.55      0.45       100\\n'"
      ]
     },
     "execution_count": 51,
     "metadata": {},
     "output_type": "execute_result"
    }
   ],
   "source": [
    "classification_report(y_test,predictions)"
   ]
  },
  {
   "cell_type": "code",
   "execution_count": 52,
   "metadata": {},
   "outputs": [],
   "source": [
    "from sklearn.metrics import confusion_matrix"
   ]
  },
  {
   "cell_type": "code",
   "execution_count": 53,
   "metadata": {},
   "outputs": [
    {
     "data": {
      "text/plain": [
       "array([[ 2, 39],\n",
       "       [ 6, 53]], dtype=int64)"
      ]
     },
     "execution_count": 53,
     "metadata": {},
     "output_type": "execute_result"
    }
   ],
   "source": [
    "confusion_matrix(y_test,predictions)"
   ]
  },
  {
   "cell_type": "code",
   "execution_count": 54,
   "metadata": {},
   "outputs": [],
   "source": [
    "from sklearn.metrics import accuracy_score"
   ]
  },
  {
   "cell_type": "code",
   "execution_count": 55,
   "metadata": {},
   "outputs": [
    {
     "data": {
      "text/plain": [
       "0.55"
      ]
     },
     "execution_count": 55,
     "metadata": {},
     "output_type": "execute_result"
    }
   ],
   "source": [
    "accuracy_score(y_test,predictions)"
   ]
  },
  {
   "cell_type": "code",
   "execution_count": 56,
   "metadata": {},
   "outputs": [],
   "source": [
    "from sklearn.tree import DecisionTreeClassifier\n",
    "from sklearn.ensemble import RandomForestClassifier\n",
    "from sklearn.neighbors import KNeighborsClassifier"
   ]
  },
  {
   "cell_type": "code",
   "execution_count": 57,
   "metadata": {},
   "outputs": [],
   "source": [
    "DT=DecisionTreeClassifier()\n",
    "model_DT=DT.fit(x_train,y_train)\n",
    "y_pred=model_DT.predict(x_test)"
   ]
  },
  {
   "cell_type": "code",
   "execution_count": 58,
   "metadata": {},
   "outputs": [
    {
     "data": {
      "text/plain": [
       "0.55"
      ]
     },
     "execution_count": 58,
     "metadata": {},
     "output_type": "execute_result"
    }
   ],
   "source": [
    "score=accuracy_score(y_test,y_pred)\n",
    "score"
   ]
  },
  {
   "cell_type": "code",
   "execution_count": 59,
   "metadata": {},
   "outputs": [
    {
     "data": {
      "text/plain": [
       "0.53"
      ]
     },
     "execution_count": 59,
     "metadata": {},
     "output_type": "execute_result"
    }
   ],
   "source": [
    "RF=RandomForestClassifier()\n",
    "model_RF=RF.fit(x_train,y_train)\n",
    "y_pred=model_RF.predict(x_test)\n",
    "score=accuracy_score(y_test,y_pred)\n",
    "score"
   ]
  },
  {
   "cell_type": "code",
   "execution_count": 60,
   "metadata": {},
   "outputs": [
    {
     "data": {
      "text/plain": [
       "0.54"
      ]
     },
     "execution_count": 60,
     "metadata": {},
     "output_type": "execute_result"
    }
   ],
   "source": [
    "cls=KNeighborsClassifier(n_neighbors=5,metric='minkowski',p=2)\n",
    "cls.fit(x_train,y_train)\n",
    "y_pred=cls.predict(x_test)\n",
    "score=accuracy_score(y_test,y_pred)\n",
    "score\n",
    "\n"
   ]
  },
  {
   "cell_type": "code",
   "execution_count": 65,
   "metadata": {},
   "outputs": [],
   "source": [
    "#now scaling the datasets\n",
    "#then check the classification report\n",
    "from sklearn.preprocessing import StandardScaler"
   ]
  },
  {
   "cell_type": "code",
   "execution_count": 72,
   "metadata": {
    "collapsed": true
   },
   "outputs": [
    {
     "data": {
      "text/plain": [
       "array([[-1.15133896e+00, -4.92074184e-01, -5.27644853e-01,\n",
       "        -4.67345218e-01, -5.86973839e-01,  3.95811403e+00,\n",
       "        -1.39326109e+00, -5.46535725e-01,  1.04083300e+00],\n",
       "       [ 8.68553950e-01,  6.97585578e-02, -5.27644853e-01,\n",
       "        -4.67345218e-01, -5.90208684e-01, -2.52645576e-01,\n",
       "         7.17740563e-01, -5.46535725e-01,  1.04083300e+00],\n",
       "       [ 8.68553950e-01,  6.66705846e-01, -5.27644853e-01,\n",
       "        -4.67345218e-01, -4.47769443e-01, -2.52645576e-01,\n",
       "         7.17740563e-01, -5.46535725e-01,  1.04083300e+00],\n",
       "       [-1.15133896e+00,  9.82736763e-01, -5.27644853e-01,\n",
       "         1.65695123e+00, -1.65572777e-01, -2.52645576e-01,\n",
       "         7.17740563e-01,  1.82970656e+00, -9.60768923e-01],\n",
       "       [ 8.68553950e-01, -1.15925057e+00,  7.01013876e+00,\n",
       "         1.65695123e+00,  5.83479449e-01, -2.52645576e-01,\n",
       "         7.17740563e-01, -5.46535725e-01,  1.04083300e+00],\n",
       "       [ 8.68553950e-01, -7.02761462e-01, -5.27644853e-01,\n",
       "        -4.67345218e-01, -5.86106416e-01, -2.52645576e-01,\n",
       "         7.17740563e-01, -5.46535725e-01,  1.04083300e+00],\n",
       "       [-1.15133896e+00,  2.24686043e+00,  4.14578099e-01,\n",
       "        -4.67345218e-01,  3.46660514e+00, -2.52645576e-01,\n",
       "         7.17740563e-01, -5.46535725e-01, -9.60768923e-01],\n",
       "       [ 8.68553950e-01,  2.31708953e+00,  4.14578099e-01,\n",
       "        -4.67345218e-01,  6.91433878e-01, -2.52645576e-01,\n",
       "        -1.39326109e+00, -5.46535725e-01, -9.60768923e-01],\n",
       "       [ 8.68553950e-01,  7.01820393e-01, -5.27644853e-01,\n",
       "        -4.67345218e-01, -4.48795957e-01, -2.52645576e-01,\n",
       "        -1.39326109e+00,  1.82970656e+00, -9.60768923e-01],\n",
       "       [-1.15133896e+00, -9.13448741e-01,  4.14578099e-01,\n",
       "         5.94803004e-01, -4.87542128e-01, -2.52645576e-01,\n",
       "         7.17740563e-01,  1.82970656e+00, -9.60768923e-01],\n",
       "       [-1.15133896e+00, -3.51615999e-01,  4.14578099e-01,\n",
       "        -4.67345218e-01,  1.85675838e+00, -2.52645576e-01,\n",
       "        -1.39326109e+00, -5.46535725e-01, -9.60768923e-01],\n",
       "       [-1.15133896e+00, -6.32532370e-01,  4.14578099e-01,\n",
       "         5.94803004e-01, -5.01036431e-01, -2.52645576e-01,\n",
       "         7.17740563e-01, -5.46535725e-01,  1.04083300e+00],\n",
       "       [-1.15133896e+00,  2.03617315e+00,  4.14578099e-01,\n",
       "         3.78124767e+00,  4.24730127e+00, -2.52645576e-01,\n",
       "         7.17740563e-01, -5.46535725e-01, -9.60768923e-01],\n",
       "       [ 8.68553950e-01,  6.97585578e-02, -5.27644853e-01,\n",
       "        -4.67345218e-01, -3.07144594e-01, -2.52645576e-01,\n",
       "         7.17740563e-01, -5.46535725e-01,  1.04083300e+00],\n",
       "       [ 8.68553950e-01,  3.85789475e-01,  4.14578099e-01,\n",
       "        -4.67345218e-01, -4.04208884e-01, -2.52645576e-01,\n",
       "         7.17740563e-01, -5.46535725e-01,  1.04083300e+00],\n",
       "       [ 8.68553950e-01, -5.62303277e-01, -5.27644853e-01,\n",
       "        -4.67345218e-01, -5.34890561e-01, -2.52645576e-01,\n",
       "         7.17740563e-01,  1.82970656e+00, -9.60768923e-01],\n",
       "       [ 8.68553950e-01, -7.72990555e-01, -5.27644853e-01,\n",
       "        -4.67345218e-01, -5.85000356e-01, -2.52645576e-01,\n",
       "         7.17740563e-01, -5.46535725e-01,  1.04083300e+00],\n",
       "       [-1.15133896e+00, -7.06996277e-02,  4.14578099e-01,\n",
       "        -4.67345218e-01, -4.71286463e-01, -2.52645576e-01,\n",
       "        -1.39326109e+00,  1.82970656e+00, -9.60768923e-01],\n",
       "       [-1.15133896e+00, -7.06996277e-02, -5.27644853e-01,\n",
       "        -4.67345218e-01, -5.89261715e-01,  3.95811403e+00,\n",
       "        -1.39326109e+00, -5.46535725e-01,  1.04083300e+00],\n",
       "       [-1.15133896e+00, -5.62303277e-01, -5.27644853e-01,\n",
       "         5.94803004e-01,  8.41212126e-01, -2.52645576e-01,\n",
       "        -1.39326109e+00, -5.46535725e-01, -9.60768923e-01],\n",
       "       [ 8.68553950e-01,  5.61362207e-01, -5.27644853e-01,\n",
       "        -4.67345218e-01, -1.71254589e-01, -2.52645576e-01,\n",
       "        -1.39326109e+00, -5.46535725e-01, -9.60768923e-01],\n",
       "       [ 8.68553950e-01, -7.06996277e-02,  4.14578099e-01,\n",
       "         5.94803004e-01, -2.41330271e-01, -2.52645576e-01,\n",
       "         7.17740563e-01,  1.82970656e+00, -9.60768923e-01],\n",
       "       [ 8.68553950e-01, -4.92074184e-01, -5.27644853e-01,\n",
       "        -4.67345218e-01, -5.85000356e-01, -2.52645576e-01,\n",
       "         7.17740563e-01, -5.46535725e-01,  1.04083300e+00],\n",
       "       [ 8.68553950e-01,  7.72049485e-01, -5.27644853e-01,\n",
       "        -4.67345218e-01, -4.87542128e-01, -2.52645576e-01,\n",
       "         7.17740563e-01,  1.82970656e+00, -9.60768923e-01],\n",
       "       [ 8.68553950e-01,  6.31591300e-01,  4.14578099e-01,\n",
       "         5.90554411e+00,  1.54502637e-01, -2.52645576e-01,\n",
       "         7.17740563e-01, -5.46535725e-01,  1.04083300e+00],\n",
       "       [-1.15133896e+00,  9.82736763e-01, -5.27644853e-01,\n",
       "        -4.67345218e-01, -5.96917010e-01, -2.52645576e-01,\n",
       "        -1.39326109e+00, -5.46535725e-01,  1.04083300e+00],\n",
       "       [ 8.68553950e-01, -7.02761462e-01, -5.27644853e-01,\n",
       "        -4.67345218e-01, -5.86973839e-01,  3.95811403e+00,\n",
       "        -1.39326109e+00, -5.46535725e-01,  1.04083300e+00],\n",
       "       [-1.15133896e+00, -5.62303277e-01,  4.14578099e-01,\n",
       "        -4.67345218e-01,  8.24325781e-01, -2.52645576e-01,\n",
       "         7.17740563e-01, -5.46535725e-01, -9.60768923e-01],\n",
       "       [-1.15133896e+00, -6.32532370e-01,  1.35680105e+00,\n",
       "        -4.67345218e-01, -5.69691660e-01, -2.52645576e-01,\n",
       "         7.17740563e-01, -5.46535725e-01,  1.04083300e+00],\n",
       "       [-1.15133896e+00, -9.83677833e-01, -5.27644853e-01,\n",
       "        -4.67345218e-01, -5.87290126e-01,  3.95811403e+00,\n",
       "        -1.39326109e+00, -5.46535725e-01,  1.04083300e+00],\n",
       "       [ 8.68553950e-01,  6.31591300e-01, -5.27644853e-01,\n",
       "        -4.67345218e-01, -4.87542128e-01, -2.52645576e-01,\n",
       "         7.17740563e-01,  1.82970656e+00, -9.60768923e-01],\n",
       "       [ 8.68553950e-01, -7.06996277e-02, -5.27644853e-01,\n",
       "        -4.67345218e-01, -2.41330271e-01, -2.52645576e-01,\n",
       "         7.17740563e-01, -5.46535725e-01, -9.60768923e-01],\n",
       "       [ 8.68553950e-01, -3.51615999e-01, -5.27644853e-01,\n",
       "        -4.67345218e-01, -5.86500354e-01, -2.52645576e-01,\n",
       "         7.17740563e-01, -5.46535725e-01,  1.04083300e+00],\n",
       "       [ 8.68553950e-01,  1.54456951e+00, -5.27644853e-01,\n",
       "        -4.67345218e-01, -1.93981837e-01, -2.52645576e-01,\n",
       "        -1.39326109e+00, -5.46535725e-01, -9.60768923e-01],\n",
       "       [-1.15133896e+00, -7.06996277e-02, -5.27644853e-01,\n",
       "        -4.67345218e-01,  2.38871804e+00, -2.52645576e-01,\n",
       "         7.17740563e-01, -5.46535725e-01, -9.60768923e-01],\n",
       "       [-1.15133896e+00, -5.62303277e-01, -5.27644853e-01,\n",
       "        -4.67345218e-01, -5.85000356e-01, -2.52645576e-01,\n",
       "         7.17740563e-01, -5.46535725e-01,  1.04083300e+00],\n",
       "       [-1.15133896e+00, -1.47528148e+00,  4.18346991e+00,\n",
       "         1.65695123e+00,  1.54502637e-01, -2.52645576e-01,\n",
       "         7.17740563e-01, -5.46535725e-01,  1.04083300e+00],\n",
       "       [ 8.68553950e-01, -7.72990555e-01, -5.27644853e-01,\n",
       "        -4.67345218e-01, -5.83659448e-01, -2.52645576e-01,\n",
       "         7.17740563e-01, -5.46535725e-01,  1.04083300e+00],\n",
       "       [-1.15133896e+00,  3.50674929e-01, -5.27644853e-01,\n",
       "        -4.67345218e-01, -1.33769780e-01, -2.52645576e-01,\n",
       "        -1.39326109e+00, -5.46535725e-01, -9.60768923e-01],\n",
       "       [ 8.68553950e-01, -7.02761462e-01,  4.14578099e-01,\n",
       "        -4.67345218e-01, -6.10727601e-01, -2.52645576e-01,\n",
       "         7.17740563e-01, -5.46535725e-01,  1.04083300e+00],\n",
       "       [ 8.68553950e-01,  3.50674929e-01, -5.27644853e-01,\n",
       "        -4.67345218e-01,  6.91276681e-01, -2.52645576e-01,\n",
       "        -1.39326109e+00, -5.46535725e-01, -9.60768923e-01],\n",
       "       [-1.15133896e+00, -2.11157813e-01, -5.27644853e-01,\n",
       "        -4.67345218e-01, -5.86500354e-01, -2.52645576e-01,\n",
       "         7.17740563e-01, -5.46535725e-01,  1.04083300e+00],\n",
       "       [-1.15133896e+00, -7.72990555e-01,  4.14578099e-01,\n",
       "        -4.67345218e-01, -2.41330271e-01, -2.52645576e-01,\n",
       "         7.17740563e-01,  1.82970656e+00, -9.60768923e-01],\n",
       "       [-1.15133896e+00,  1.39987651e-01, -5.27644853e-01,\n",
       "        -4.67345218e-01, -2.08739397e-01, -2.52645576e-01,\n",
       "        -1.39326109e+00, -5.46535725e-01, -9.60768923e-01],\n",
       "       [-1.15133896e+00, -4.70534921e-04, -5.27644853e-01,\n",
       "        -4.67345218e-01,  1.81359176e+00, -2.52645576e-01,\n",
       "        -1.39326109e+00, -5.46535725e-01, -9.60768923e-01],\n",
       "       [-1.15133896e+00, -8.43219648e-01,  4.14578099e-01,\n",
       "         5.94803004e-01, -4.35616047e-01, -2.52645576e-01,\n",
       "        -1.39326109e+00, -5.46535725e-01,  1.04083300e+00],\n",
       "       [ 8.68553950e-01,  2.24686043e+00,  4.14578099e-01,\n",
       "        -4.67345218e-01, -2.41330271e-01, -2.52645576e-01,\n",
       "         7.17740563e-01,  1.82970656e+00, -9.60768923e-01],\n",
       "       [ 8.68553950e-01,  1.33388223e+00,  4.14578099e-01,\n",
       "        -4.67345218e-01, -2.41330271e-01, -2.52645576e-01,\n",
       "         7.17740563e-01,  1.82970656e+00, -9.60768923e-01],\n",
       "       [-1.15133896e+00, -8.78334194e-01, -5.27644853e-01,\n",
       "        -4.67345218e-01, -5.95812844e-01,  3.95811403e+00,\n",
       "        -1.39326109e+00, -5.46535725e-01,  1.04083300e+00],\n",
       "       [ 8.68553950e-01,  5.26247661e-01, -5.27644853e-01,\n",
       "        -4.67345218e-01, -5.96443526e-01, -2.52645576e-01,\n",
       "         7.17740563e-01, -5.46535725e-01,  1.04083300e+00],\n",
       "       [ 8.68553950e-01, -9.13448741e-01,  4.14578099e-01,\n",
       "        -4.67345218e-01, -4.60000490e-01, -2.52645576e-01,\n",
       "        -1.39326109e+00, -5.46535725e-01,  1.04083300e+00],\n",
       "       [-1.15133896e+00,  1.39987651e-01,  4.14578099e-01,\n",
       "         1.65695123e+00, -3.44076373e-01, -2.52645576e-01,\n",
       "         7.17740563e-01, -5.46535725e-01,  1.04083300e+00],\n",
       "       [-1.15133896e+00,  1.68502769e+00,  1.35680105e+00,\n",
       "        -4.67345218e-01, -2.47012083e-01, -2.52645576e-01,\n",
       "         7.17740563e-01, -5.46535725e-01, -9.60768923e-01],\n",
       "       [ 8.68553950e-01, -1.40928720e-01,  4.14578099e-01,\n",
       "        -4.67345218e-01, -2.41330271e-01, -2.52645576e-01,\n",
       "         7.17740563e-01,  1.82970656e+00, -9.60768923e-01],\n",
       "       [ 8.68553950e-01,  4.91133114e-01,  4.14578099e-01,\n",
       "        -4.67345218e-01, -3.36027139e-01, -2.52645576e-01,\n",
       "         7.17740563e-01,  1.82970656e+00, -9.60768923e-01],\n",
       "       [ 8.68553950e-01,  3.50674929e-01, -5.27644853e-01,\n",
       "        -4.67345218e-01, -5.53829935e-01, -2.52645576e-01,\n",
       "         7.17740563e-01, -5.46535725e-01,  1.04083300e+00],\n",
       "       [ 8.68553950e-01, -7.72990555e-01, -5.27644853e-01,\n",
       "        -4.67345218e-01, -4.71206918e-01, -2.52645576e-01,\n",
       "        -1.39326109e+00,  1.82970656e+00, -9.60768923e-01],\n",
       "       [-1.15133896e+00, -1.05390693e+00,  4.14578099e-01,\n",
       "         5.94803004e-01, -5.72453021e-01, -2.52645576e-01,\n",
       "        -1.39326109e+00, -5.46535725e-01,  1.04083300e+00],\n",
       "       [ 8.68553950e-01,  1.26365313e+00,  4.14578099e-01,\n",
       "         1.65695123e+00,  4.97305299e-01, -2.52645576e-01,\n",
       "         7.17740563e-01,  1.82970656e+00, -9.60768923e-01],\n",
       "       [-1.15133896e+00, -1.05390693e+00, -5.27644853e-01,\n",
       "        -4.67345218e-01, -5.88867776e-01, -2.52645576e-01,\n",
       "         7.17740563e-01, -5.46535725e-01,  1.04083300e+00],\n",
       "       [ 8.68553950e-01, -9.83677833e-01, -5.27644853e-01,\n",
       "        -4.67345218e-01, -5.69691660e-01, -2.52645576e-01,\n",
       "         7.17740563e-01, -5.46535725e-01,  1.04083300e+00],\n",
       "       [-1.15133896e+00,  5.61362207e-01, -5.27644853e-01,\n",
       "        -4.67345218e-01,  1.32874380e+00, -2.52645576e-01,\n",
       "        -1.39326109e+00, -5.46535725e-01, -9.60768923e-01],\n",
       "       [ 8.68553950e-01, -2.81386906e-01, -5.27644853e-01,\n",
       "        -4.67345218e-01, -5.85000356e-01, -2.52645576e-01,\n",
       "         7.17740563e-01, -5.46535725e-01,  1.04083300e+00],\n",
       "       [ 8.68553950e-01,  1.19342404e+00, -5.27644853e-01,\n",
       "        -4.67345218e-01,  2.22604837e-01, -2.52645576e-01,\n",
       "        -1.39326109e+00, -5.46535725e-01, -9.60768923e-01],\n",
       "       [-1.15133896e+00, -7.72990555e-01, -5.27644853e-01,\n",
       "        -4.67345218e-01, -5.85000356e-01, -2.52645576e-01,\n",
       "         7.17740563e-01, -5.46535725e-01,  1.04083300e+00],\n",
       "       [ 8.68553950e-01, -2.03711422e+00,  4.14578099e-01,\n",
       "         5.94803004e-01, -2.98148392e-01, -2.52645576e-01,\n",
       "         7.17740563e-01,  1.82970656e+00, -9.60768923e-01],\n",
       "       [-1.15133896e+00,  1.68502769e+00, -5.27644853e-01,\n",
       "        -4.67345218e-01, -2.08739397e-01, -2.52645576e-01,\n",
       "        -1.39326109e+00, -5.46535725e-01, -9.60768923e-01],\n",
       "       [-1.15133896e+00,  9.82736763e-01, -5.27644853e-01,\n",
       "        -4.67345218e-01,  4.23546416e+00, -2.52645576e-01,\n",
       "        -1.39326109e+00, -5.46535725e-01, -9.60768923e-01],\n",
       "       [ 8.68553950e-01, -4.21845091e-01, -5.27644853e-01,\n",
       "        -4.67345218e-01, -5.34890561e-01, -2.52645576e-01,\n",
       "         7.17740563e-01,  1.82970656e+00, -9.60768923e-01],\n",
       "       [ 8.68553950e-01, -7.02761462e-01, -5.27644853e-01,\n",
       "        -4.67345218e-01, -5.81292027e-01, -2.52645576e-01,\n",
       "         7.17740563e-01, -5.46535725e-01,  1.04083300e+00],\n",
       "       [-1.15133896e+00, -1.61573967e+00,  4.14578099e-01,\n",
       "         5.94803004e-01, -2.41330271e-01, -2.52645576e-01,\n",
       "         7.17740563e-01,  1.82970656e+00, -9.60768923e-01],\n",
       "       [-1.15133896e+00, -4.92074184e-01,  4.14578099e-01,\n",
       "        -4.67345218e-01, -2.08739397e-01, -2.52645576e-01,\n",
       "        -1.39326109e+00,  1.82970656e+00, -9.60768923e-01],\n",
       "       [ 8.68553950e-01,  1.68502769e+00,  4.14578099e-01,\n",
       "         5.94803004e-01,  1.03707745e+00, -2.52645576e-01,\n",
       "         7.17740563e-01, -5.46535725e-01, -9.60768923e-01],\n",
       "       [ 8.68553950e-01, -4.92074184e-01, -5.27644853e-01,\n",
       "        -4.67345218e-01, -5.90761714e-01, -2.52645576e-01,\n",
       "         7.17740563e-01, -5.46535725e-01,  1.04083300e+00],\n",
       "       [-1.15133896e+00,  1.61479860e+00,  4.14578099e-01,\n",
       "         5.94803004e-01,  8.16590941e-01, -2.52645576e-01,\n",
       "         7.17740563e-01, -5.46535725e-01, -9.60768923e-01],\n",
       "       [ 8.68553950e-01,  6.97585578e-02, -5.27644853e-01,\n",
       "        -4.67345218e-01, -4.78072441e-01, -2.52645576e-01,\n",
       "         7.17740563e-01,  1.82970656e+00, -9.60768923e-01],\n",
       "       [ 8.68553950e-01, -7.02761462e-01,  1.35680105e+00,\n",
       "        -4.67345218e-01, -2.76368112e-01, -2.52645576e-01,\n",
       "         7.17740563e-01, -5.46535725e-01,  1.04083300e+00],\n",
       "       [ 8.68553950e-01, -4.92074184e-01, -5.27644853e-01,\n",
       "        -4.67345218e-01, -5.69691660e-01, -2.52645576e-01,\n",
       "         7.17740563e-01, -5.46535725e-01,  1.04083300e+00],\n",
       "       [ 8.68553950e-01, -7.02761462e-01, -5.27644853e-01,\n",
       "        -4.67345218e-01, -5.96917010e-01, -2.52645576e-01,\n",
       "        -1.39326109e+00, -5.46535725e-01,  1.04083300e+00],\n",
       "       [ 8.68553950e-01,  2.45331290e-01, -5.27644853e-01,\n",
       "        -4.67345218e-01, -5.85473840e-01,  3.95811403e+00,\n",
       "        -1.39326109e+00, -5.46535725e-01,  1.04083300e+00],\n",
       "       [ 8.68553950e-01, -4.92074184e-01,  4.14578099e-01,\n",
       "        -4.67345218e-01,  8.24325781e-01, -2.52645576e-01,\n",
       "         7.17740563e-01, -5.46535725e-01, -9.60768923e-01],\n",
       "       [ 8.68553950e-01, -7.02761462e-01, -5.27644853e-01,\n",
       "        -4.67345218e-01, -5.85000356e-01, -2.52645576e-01,\n",
       "         7.17740563e-01, -5.46535725e-01,  1.04083300e+00],\n",
       "       [ 8.68553950e-01, -1.76043267e-01, -5.27644853e-01,\n",
       "        -4.67345218e-01, -2.08739397e-01, -2.52645576e-01,\n",
       "        -1.39326109e+00, -5.46535725e-01, -9.60768923e-01],\n",
       "       [ 8.68553950e-01, -3.51615999e-01, -5.27644853e-01,\n",
       "        -4.67345218e-01, -5.84212478e-01, -2.52645576e-01,\n",
       "         7.17740563e-01, -5.46535725e-01,  1.04083300e+00],\n",
       "       [-1.15133896e+00, -4.92074184e-01,  4.14578099e-01,\n",
       "         5.94803004e-01, -3.29176161e-02, -2.52645576e-01,\n",
       "        -1.39326109e+00,  1.82970656e+00, -9.60768923e-01],\n",
       "       [ 8.68553950e-01, -7.72990555e-01, -5.27644853e-01,\n",
       "        -4.67345218e-01, -5.96917010e-01, -2.52645576e-01,\n",
       "        -1.39326109e+00, -5.46535725e-01,  1.04083300e+00],\n",
       "       [ 8.68553950e-01,  1.26365313e+00, -5.27644853e-01,\n",
       "        -4.67345218e-01, -2.41330271e-01, -2.52645576e-01,\n",
       "         7.17740563e-01, -5.46535725e-01, -9.60768923e-01],\n",
       "       [-1.15133896e+00,  1.33388223e+00,  4.14578099e-01,\n",
       "         5.94803004e-01,  3.27192353e+00, -2.52645576e-01,\n",
       "        -1.39326109e+00, -5.46535725e-01, -9.60768923e-01],\n",
       "       [ 8.68553950e-01,  8.42278578e-01, -5.27644853e-01,\n",
       "        -4.67345218e-01, -5.84212478e-01, -2.52645576e-01,\n",
       "         7.17740563e-01, -5.46535725e-01,  1.04083300e+00],\n",
       "       [-1.15133896e+00,  3.50674929e-01, -5.27644853e-01,\n",
       "         1.65695123e+00, -4.32617944e-01, -2.52645576e-01,\n",
       "         7.17740563e-01, -5.46535725e-01,  1.04083300e+00],\n",
       "       [-1.15133896e+00, -2.16563346e+00,  4.14578099e-01,\n",
       "         1.65695123e+00, -3.44076373e-01, -2.52645576e-01,\n",
       "         7.17740563e-01, -5.46535725e-01,  1.04083300e+00],\n",
       "       [ 8.68553950e-01, -4.92074184e-01, -5.27644853e-01,\n",
       "        -4.67345218e-01, -5.57144325e-01, -2.52645576e-01,\n",
       "         7.17740563e-01, -5.46535725e-01,  1.04083300e+00],\n",
       "       [ 8.68553950e-01, -7.06996277e-02, -5.27644853e-01,\n",
       "        -4.67345218e-01,  1.27987514e-01, -2.52645576e-01,\n",
       "         7.17740563e-01, -5.46535725e-01, -9.60768923e-01],\n",
       "       [ 8.68553950e-01, -7.06996277e-02,  4.14578099e-01,\n",
       "         1.65695123e+00,  2.13650808e+00, -2.52645576e-01,\n",
       "         7.17740563e-01, -5.46535725e-01, -9.60768923e-01],\n",
       "       [-1.15133896e+00, -2.10734332e+00,  4.14578099e-01,\n",
       "         1.65695123e+00,  5.37300180e-02, -2.52645576e-01,\n",
       "        -1.39326109e+00,  1.82970656e+00, -9.60768923e-01],\n",
       "       [ 8.68553950e-01,  9.82736763e-01, -5.27644853e-01,\n",
       "        -4.67345218e-01, -1.71254589e-01, -2.52645576e-01,\n",
       "        -1.39326109e+00, -5.46535725e-01, -9.60768923e-01],\n",
       "       [ 8.68553950e-01, -4.70534921e-04,  2.29902400e+00,\n",
       "        -4.67345218e-01, -3.92845260e-01, -2.52645576e-01,\n",
       "         7.17740563e-01, -5.46535725e-01,  1.04083300e+00],\n",
       "       [-1.15133896e+00,  3.15983864e+00,  4.14578099e-01,\n",
       "        -4.67345218e-01,  7.59615623e-01, -2.52645576e-01,\n",
       "         7.17740563e-01, -5.46535725e-01, -9.60768923e-01],\n",
       "       [-1.15133896e+00, -3.51615999e-01, -5.27644853e-01,\n",
       "         1.65695123e+00, -4.72864113e-01, -2.52645576e-01,\n",
       "         7.17740563e-01, -5.46535725e-01,  1.04083300e+00],\n",
       "       [-1.15133896e+00, -1.12413602e+00, -5.27644853e-01,\n",
       "         1.65695123e+00,  4.88158566e-03, -2.52645576e-01,\n",
       "         7.17740563e-01,  1.82970656e+00, -9.60768923e-01]])"
      ]
     },
     "execution_count": 72,
     "metadata": {},
     "output_type": "execute_result"
    }
   ],
   "source": [
    "s_c=StandardScaler()\n",
    "training_x=s_c.fit_transform(x_train)\n",
    "test_x=s_c.fit_transform(x_test)\n",
    "training_x\n",
    "test_x"
   ]
  },
  {
   "cell_type": "code",
   "execution_count": 63,
   "metadata": {},
   "outputs": [
    {
     "data": {
      "text/plain": [
       "0.5"
      ]
     },
     "execution_count": 63,
     "metadata": {},
     "output_type": "execute_result"
    }
   ],
   "source": [
    "RF=RandomForestClassifier()\n",
    "model_RF=RF.fit(training_x,y_train)\n",
    "y_pred_scaled=model_RF.predict(test_x)\n",
    "score=accuracy_score(y_test,y_pred_scaled)\n",
    "score"
   ]
  },
  {
   "cell_type": "code",
   "execution_count": 64,
   "metadata": {},
   "outputs": [
    {
     "data": {
      "text/plain": [
       "0.53"
      ]
     },
     "execution_count": 64,
     "metadata": {},
     "output_type": "execute_result"
    }
   ],
   "source": [
    "LR=LogisticRegression()\n",
    "model_LR=LR.fit(training_x,y_train)\n",
    "y_pred_scaled=model_LR.predict(test_x)\n",
    "score=accuracy_score(y_test,y_pred_scaled)\n",
    "score"
   ]
  },
  {
   "cell_type": "code",
   "execution_count": null,
   "metadata": {},
   "outputs": [],
   "source": []
  },
  {
   "cell_type": "code",
   "execution_count": 75,
   "metadata": {},
   "outputs": [
    {
     "data": {
      "text/plain": [
       "0.59"
      ]
     },
     "execution_count": 75,
     "metadata": {},
     "output_type": "execute_result"
    }
   ],
   "source": [
    "from sklearn.svm import SVC\n",
    "model=SVC(kernel='linear')\n",
    "model.fit(x_train,y_train)\n",
    "y_pred=model.predict(x_test)\n",
    "accuracy_score(y_test,y_pred)"
   ]
  },
  {
   "cell_type": "code",
   "execution_count": 76,
   "metadata": {},
   "outputs": [],
   "source": [
    "#by comparing the performance of models for given dataset, the highest accuracy score getting from SVC is 59%\n",
    "#not bad for begginer "
   ]
  },
  {
   "cell_type": "code",
   "execution_count": 82,
   "metadata": {},
   "outputs": [],
   "source": [
    "data.to_csv(\"dataset.csv\",header=True,index=False,)\n",
    "data1.to_csv(\"train_data.csv\",header=True,index=False)\n"
   ]
  }
 ],
 "metadata": {
  "kernelspec": {
   "display_name": "Python 3",
   "language": "python",
   "name": "python3"
  },
  "language_info": {
   "codemirror_mode": {
    "name": "ipython",
    "version": 3
   },
   "file_extension": ".py",
   "mimetype": "text/x-python",
   "name": "python",
   "nbconvert_exporter": "python",
   "pygments_lexer": "ipython3",
   "version": "3.8.3"
  }
 },
 "nbformat": 4,
 "nbformat_minor": 2
}
