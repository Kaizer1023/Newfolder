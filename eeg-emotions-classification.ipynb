{
 "cells": [
  {
   "cell_type": "markdown",
   "metadata": {
    "papermill": {
     "duration": 0.024176,
     "end_time": "2020-10-08T18:11:22.040895",
     "exception": false,
     "start_time": "2020-10-08T18:11:22.016719",
     "status": "completed"
    },
    "tags": []
   },
   "source": [
    "# **EEG sentiment analysis**"
   ]
  },
  {
   "cell_type": "code",
   "execution_count": 1,
   "metadata": {
    "_cell_guid": "b1076dfc-b9ad-4769-8c92-a6c4dae69d19",
    "_uuid": "8f2839f25d086af736a60e9eeb907d3b93b6e0e5",
    "execution": {
     "iopub.execute_input": "2020-10-08T18:11:22.088494Z",
     "iopub.status.busy": "2020-10-08T18:11:22.087679Z",
     "iopub.status.idle": "2020-10-08T18:11:22.096192Z",
     "shell.execute_reply": "2020-10-08T18:11:22.095094Z"
    },
    "papermill": {
     "duration": 0.035639,
     "end_time": "2020-10-08T18:11:22.096410",
     "exception": false,
     "start_time": "2020-10-08T18:11:22.060771",
     "status": "completed"
    },
    "tags": []
   },
   "outputs": [],
   "source": [
    "# This Python 3 environment comes with many helpful analytics libraries installed\n",
    "# It is defined by the kaggle/python Docker image: https://github.com/kaggle/docker-python\n",
    "# For example, here's several helpful packages to load\n",
    "\n",
    "import numpy as np # linear algebra\n",
    "import pandas as pd # data processing, CSV file I/O (e.g. pd.read_csv)\n",
    "\n",
    "# Input data files are available in the read-only \"../input/\" directory\n",
    "# For example, running this (by clicking run or pressing Shift+Enter) will list all files under the input directory\n",
    "\n",
    "import os\n",
    "for dirname, _, filenames in os.walk('/kaggle/input'):\n",
    "    for filename in filenames:\n",
    "        print(os.path.join(dirname, filename))\n",
    "\n",
    "# You can write up to 5GB to the current directory (/kaggle/working/) that gets preserved as output when you create a version using \"Save & Run All\" \n",
    "# You can also write temporary files to /kaggle/temp/, but they won't be saved outside of the current session"
   ]
  },
  {
   "cell_type": "markdown",
   "metadata": {
    "papermill": {
     "duration": 0.022471,
     "end_time": "2020-10-08T18:11:22.142713",
     "exception": false,
     "start_time": "2020-10-08T18:11:22.120242",
     "status": "completed"
    },
    "tags": []
   },
   "source": [
    "# **Loading data and preprocessing**"
   ]
  },
  {
   "cell_type": "code",
   "execution_count": 2,
   "metadata": {
    "_cell_guid": "79c7e3d0-c299-4dcb-8224-4455121ee9b0",
    "_uuid": "d629ff2d2480ee46fbb7e2d37f6b5fab8052498a",
    "execution": {
     "iopub.execute_input": "2020-10-08T18:11:22.192275Z",
     "iopub.status.busy": "2020-10-08T18:11:22.191520Z",
     "iopub.status.idle": "2020-10-08T18:11:24.134209Z",
     "shell.execute_reply": "2020-10-08T18:11:24.133533Z"
    },
    "papermill": {
     "duration": 1.971843,
     "end_time": "2020-10-08T18:11:24.134396",
     "exception": false,
     "start_time": "2020-10-08T18:11:22.162553",
     "status": "completed"
    },
    "tags": []
   },
   "outputs": [
    {
     "ename": "FileNotFoundError",
     "evalue": "[Errno 2] File ../input/eeg-brainwave-dataset-feeling-emotions/emotions.csv does not exist: '../input/eeg-brainwave-dataset-feeling-emotions/emotions.csv'",
     "output_type": "error",
     "traceback": [
      "\u001b[1;31m---------------------------------------------------------------------------\u001b[0m",
      "\u001b[1;31mFileNotFoundError\u001b[0m                         Traceback (most recent call last)",
      "\u001b[1;32m<ipython-input-2-d5ebbe029a10>\u001b[0m in \u001b[0;36m<module>\u001b[1;34m\u001b[0m\n\u001b[1;32m----> 1\u001b[1;33m \u001b[0mdf\u001b[0m \u001b[1;33m=\u001b[0m \u001b[0mpd\u001b[0m\u001b[1;33m.\u001b[0m\u001b[0mread_csv\u001b[0m\u001b[1;33m(\u001b[0m\u001b[1;34m'../input/eeg-brainwave-dataset-feeling-emotions/emotions.csv'\u001b[0m\u001b[1;33m)\u001b[0m\u001b[1;33m\u001b[0m\u001b[1;33m\u001b[0m\u001b[0m\n\u001b[0m",
      "\u001b[1;32m~\\anaconda3\\lib\\site-packages\\pandas\\io\\parsers.py\u001b[0m in \u001b[0;36mparser_f\u001b[1;34m(filepath_or_buffer, sep, delimiter, header, names, index_col, usecols, squeeze, prefix, mangle_dupe_cols, dtype, engine, converters, true_values, false_values, skipinitialspace, skiprows, skipfooter, nrows, na_values, keep_default_na, na_filter, verbose, skip_blank_lines, parse_dates, infer_datetime_format, keep_date_col, date_parser, dayfirst, cache_dates, iterator, chunksize, compression, thousands, decimal, lineterminator, quotechar, quoting, doublequote, escapechar, comment, encoding, dialect, error_bad_lines, warn_bad_lines, delim_whitespace, low_memory, memory_map, float_precision)\u001b[0m\n\u001b[0;32m    674\u001b[0m         )\n\u001b[0;32m    675\u001b[0m \u001b[1;33m\u001b[0m\u001b[0m\n\u001b[1;32m--> 676\u001b[1;33m         \u001b[1;32mreturn\u001b[0m \u001b[0m_read\u001b[0m\u001b[1;33m(\u001b[0m\u001b[0mfilepath_or_buffer\u001b[0m\u001b[1;33m,\u001b[0m \u001b[0mkwds\u001b[0m\u001b[1;33m)\u001b[0m\u001b[1;33m\u001b[0m\u001b[1;33m\u001b[0m\u001b[0m\n\u001b[0m\u001b[0;32m    677\u001b[0m \u001b[1;33m\u001b[0m\u001b[0m\n\u001b[0;32m    678\u001b[0m     \u001b[0mparser_f\u001b[0m\u001b[1;33m.\u001b[0m\u001b[0m__name__\u001b[0m \u001b[1;33m=\u001b[0m \u001b[0mname\u001b[0m\u001b[1;33m\u001b[0m\u001b[1;33m\u001b[0m\u001b[0m\n",
      "\u001b[1;32m~\\anaconda3\\lib\\site-packages\\pandas\\io\\parsers.py\u001b[0m in \u001b[0;36m_read\u001b[1;34m(filepath_or_buffer, kwds)\u001b[0m\n\u001b[0;32m    446\u001b[0m \u001b[1;33m\u001b[0m\u001b[0m\n\u001b[0;32m    447\u001b[0m     \u001b[1;31m# Create the parser.\u001b[0m\u001b[1;33m\u001b[0m\u001b[1;33m\u001b[0m\u001b[1;33m\u001b[0m\u001b[0m\n\u001b[1;32m--> 448\u001b[1;33m     \u001b[0mparser\u001b[0m \u001b[1;33m=\u001b[0m \u001b[0mTextFileReader\u001b[0m\u001b[1;33m(\u001b[0m\u001b[0mfp_or_buf\u001b[0m\u001b[1;33m,\u001b[0m \u001b[1;33m**\u001b[0m\u001b[0mkwds\u001b[0m\u001b[1;33m)\u001b[0m\u001b[1;33m\u001b[0m\u001b[1;33m\u001b[0m\u001b[0m\n\u001b[0m\u001b[0;32m    449\u001b[0m \u001b[1;33m\u001b[0m\u001b[0m\n\u001b[0;32m    450\u001b[0m     \u001b[1;32mif\u001b[0m \u001b[0mchunksize\u001b[0m \u001b[1;32mor\u001b[0m \u001b[0miterator\u001b[0m\u001b[1;33m:\u001b[0m\u001b[1;33m\u001b[0m\u001b[1;33m\u001b[0m\u001b[0m\n",
      "\u001b[1;32m~\\anaconda3\\lib\\site-packages\\pandas\\io\\parsers.py\u001b[0m in \u001b[0;36m__init__\u001b[1;34m(self, f, engine, **kwds)\u001b[0m\n\u001b[0;32m    878\u001b[0m             \u001b[0mself\u001b[0m\u001b[1;33m.\u001b[0m\u001b[0moptions\u001b[0m\u001b[1;33m[\u001b[0m\u001b[1;34m\"has_index_names\"\u001b[0m\u001b[1;33m]\u001b[0m \u001b[1;33m=\u001b[0m \u001b[0mkwds\u001b[0m\u001b[1;33m[\u001b[0m\u001b[1;34m\"has_index_names\"\u001b[0m\u001b[1;33m]\u001b[0m\u001b[1;33m\u001b[0m\u001b[1;33m\u001b[0m\u001b[0m\n\u001b[0;32m    879\u001b[0m \u001b[1;33m\u001b[0m\u001b[0m\n\u001b[1;32m--> 880\u001b[1;33m         \u001b[0mself\u001b[0m\u001b[1;33m.\u001b[0m\u001b[0m_make_engine\u001b[0m\u001b[1;33m(\u001b[0m\u001b[0mself\u001b[0m\u001b[1;33m.\u001b[0m\u001b[0mengine\u001b[0m\u001b[1;33m)\u001b[0m\u001b[1;33m\u001b[0m\u001b[1;33m\u001b[0m\u001b[0m\n\u001b[0m\u001b[0;32m    881\u001b[0m \u001b[1;33m\u001b[0m\u001b[0m\n\u001b[0;32m    882\u001b[0m     \u001b[1;32mdef\u001b[0m \u001b[0mclose\u001b[0m\u001b[1;33m(\u001b[0m\u001b[0mself\u001b[0m\u001b[1;33m)\u001b[0m\u001b[1;33m:\u001b[0m\u001b[1;33m\u001b[0m\u001b[1;33m\u001b[0m\u001b[0m\n",
      "\u001b[1;32m~\\anaconda3\\lib\\site-packages\\pandas\\io\\parsers.py\u001b[0m in \u001b[0;36m_make_engine\u001b[1;34m(self, engine)\u001b[0m\n\u001b[0;32m   1112\u001b[0m     \u001b[1;32mdef\u001b[0m \u001b[0m_make_engine\u001b[0m\u001b[1;33m(\u001b[0m\u001b[0mself\u001b[0m\u001b[1;33m,\u001b[0m \u001b[0mengine\u001b[0m\u001b[1;33m=\u001b[0m\u001b[1;34m\"c\"\u001b[0m\u001b[1;33m)\u001b[0m\u001b[1;33m:\u001b[0m\u001b[1;33m\u001b[0m\u001b[1;33m\u001b[0m\u001b[0m\n\u001b[0;32m   1113\u001b[0m         \u001b[1;32mif\u001b[0m \u001b[0mengine\u001b[0m \u001b[1;33m==\u001b[0m \u001b[1;34m\"c\"\u001b[0m\u001b[1;33m:\u001b[0m\u001b[1;33m\u001b[0m\u001b[1;33m\u001b[0m\u001b[0m\n\u001b[1;32m-> 1114\u001b[1;33m             \u001b[0mself\u001b[0m\u001b[1;33m.\u001b[0m\u001b[0m_engine\u001b[0m \u001b[1;33m=\u001b[0m \u001b[0mCParserWrapper\u001b[0m\u001b[1;33m(\u001b[0m\u001b[0mself\u001b[0m\u001b[1;33m.\u001b[0m\u001b[0mf\u001b[0m\u001b[1;33m,\u001b[0m \u001b[1;33m**\u001b[0m\u001b[0mself\u001b[0m\u001b[1;33m.\u001b[0m\u001b[0moptions\u001b[0m\u001b[1;33m)\u001b[0m\u001b[1;33m\u001b[0m\u001b[1;33m\u001b[0m\u001b[0m\n\u001b[0m\u001b[0;32m   1115\u001b[0m         \u001b[1;32melse\u001b[0m\u001b[1;33m:\u001b[0m\u001b[1;33m\u001b[0m\u001b[1;33m\u001b[0m\u001b[0m\n\u001b[0;32m   1116\u001b[0m             \u001b[1;32mif\u001b[0m \u001b[0mengine\u001b[0m \u001b[1;33m==\u001b[0m \u001b[1;34m\"python\"\u001b[0m\u001b[1;33m:\u001b[0m\u001b[1;33m\u001b[0m\u001b[1;33m\u001b[0m\u001b[0m\n",
      "\u001b[1;32m~\\anaconda3\\lib\\site-packages\\pandas\\io\\parsers.py\u001b[0m in \u001b[0;36m__init__\u001b[1;34m(self, src, **kwds)\u001b[0m\n\u001b[0;32m   1889\u001b[0m         \u001b[0mkwds\u001b[0m\u001b[1;33m[\u001b[0m\u001b[1;34m\"usecols\"\u001b[0m\u001b[1;33m]\u001b[0m \u001b[1;33m=\u001b[0m \u001b[0mself\u001b[0m\u001b[1;33m.\u001b[0m\u001b[0musecols\u001b[0m\u001b[1;33m\u001b[0m\u001b[1;33m\u001b[0m\u001b[0m\n\u001b[0;32m   1890\u001b[0m \u001b[1;33m\u001b[0m\u001b[0m\n\u001b[1;32m-> 1891\u001b[1;33m         \u001b[0mself\u001b[0m\u001b[1;33m.\u001b[0m\u001b[0m_reader\u001b[0m \u001b[1;33m=\u001b[0m \u001b[0mparsers\u001b[0m\u001b[1;33m.\u001b[0m\u001b[0mTextReader\u001b[0m\u001b[1;33m(\u001b[0m\u001b[0msrc\u001b[0m\u001b[1;33m,\u001b[0m \u001b[1;33m**\u001b[0m\u001b[0mkwds\u001b[0m\u001b[1;33m)\u001b[0m\u001b[1;33m\u001b[0m\u001b[1;33m\u001b[0m\u001b[0m\n\u001b[0m\u001b[0;32m   1892\u001b[0m         \u001b[0mself\u001b[0m\u001b[1;33m.\u001b[0m\u001b[0munnamed_cols\u001b[0m \u001b[1;33m=\u001b[0m \u001b[0mself\u001b[0m\u001b[1;33m.\u001b[0m\u001b[0m_reader\u001b[0m\u001b[1;33m.\u001b[0m\u001b[0munnamed_cols\u001b[0m\u001b[1;33m\u001b[0m\u001b[1;33m\u001b[0m\u001b[0m\n\u001b[0;32m   1893\u001b[0m \u001b[1;33m\u001b[0m\u001b[0m\n",
      "\u001b[1;32mpandas\\_libs\\parsers.pyx\u001b[0m in \u001b[0;36mpandas._libs.parsers.TextReader.__cinit__\u001b[1;34m()\u001b[0m\n",
      "\u001b[1;32mpandas\\_libs\\parsers.pyx\u001b[0m in \u001b[0;36mpandas._libs.parsers.TextReader._setup_parser_source\u001b[1;34m()\u001b[0m\n",
      "\u001b[1;31mFileNotFoundError\u001b[0m: [Errno 2] File ../input/eeg-brainwave-dataset-feeling-emotions/emotions.csv does not exist: '../input/eeg-brainwave-dataset-feeling-emotions/emotions.csv'"
     ]
    }
   ],
   "source": [
    "df = pd.read_csv('../input/eeg-brainwave-dataset-feeling-emotions/emotions.csv')"
   ]
  },
  {
   "cell_type": "code",
   "execution_count": null,
   "metadata": {
    "execution": {
     "iopub.execute_input": "2020-10-08T18:11:24.184204Z",
     "iopub.status.busy": "2020-10-08T18:11:24.183454Z",
     "iopub.status.idle": "2020-10-08T18:11:24.229747Z",
     "shell.execute_reply": "2020-10-08T18:11:24.230419Z"
    },
    "papermill": {
     "duration": 0.076084,
     "end_time": "2020-10-08T18:11:24.230591",
     "exception": false,
     "start_time": "2020-10-08T18:11:24.154507",
     "status": "completed"
    },
    "tags": []
   },
   "outputs": [],
   "source": [
    "df.head(10)"
   ]
  },
  {
   "cell_type": "code",
   "execution_count": null,
   "metadata": {
    "execution": {
     "iopub.execute_input": "2020-10-08T18:11:24.284505Z",
     "iopub.status.busy": "2020-10-08T18:11:24.283337Z",
     "iopub.status.idle": "2020-10-08T18:11:24.287357Z",
     "shell.execute_reply": "2020-10-08T18:11:24.287975Z"
    },
    "papermill": {
     "duration": 0.033679,
     "end_time": "2020-10-08T18:11:24.288133",
     "exception": false,
     "start_time": "2020-10-08T18:11:24.254454",
     "status": "completed"
    },
    "tags": []
   },
   "outputs": [],
   "source": [
    "print(df.shape)"
   ]
  },
  {
   "cell_type": "code",
   "execution_count": null,
   "metadata": {
    "execution": {
     "iopub.execute_input": "2020-10-08T18:11:24.337939Z",
     "iopub.status.busy": "2020-10-08T18:11:24.337163Z",
     "iopub.status.idle": "2020-10-08T18:11:24.375937Z",
     "shell.execute_reply": "2020-10-08T18:11:24.375133Z"
    },
    "papermill": {
     "duration": 0.065906,
     "end_time": "2020-10-08T18:11:24.376068",
     "exception": false,
     "start_time": "2020-10-08T18:11:24.310162",
     "status": "completed"
    },
    "tags": []
   },
   "outputs": [],
   "source": [
    "df.isnull().sum().sum()"
   ]
  },
  {
   "cell_type": "markdown",
   "metadata": {
    "papermill": {
     "duration": 0.022305,
     "end_time": "2020-10-08T18:11:24.420656",
     "exception": false,
     "start_time": "2020-10-08T18:11:24.398351",
     "status": "completed"
    },
    "tags": []
   },
   "source": [
    "There are no null values in this dataset, it will make things easier going forward."
   ]
  },
  {
   "cell_type": "code",
   "execution_count": null,
   "metadata": {
    "execution": {
     "iopub.execute_input": "2020-10-08T18:11:24.570481Z",
     "iopub.status.busy": "2020-10-08T18:11:24.565506Z",
     "iopub.status.idle": "2020-10-08T18:11:24.666058Z",
     "shell.execute_reply": "2020-10-08T18:11:24.665414Z"
    },
    "papermill": {
     "duration": 0.223397,
     "end_time": "2020-10-08T18:11:24.666184",
     "exception": false,
     "start_time": "2020-10-08T18:11:24.442787",
     "status": "completed"
    },
    "tags": []
   },
   "outputs": [],
   "source": [
    "df.info()"
   ]
  },
  {
   "cell_type": "code",
   "execution_count": null,
   "metadata": {
    "execution": {
     "iopub.execute_input": "2020-10-08T18:11:24.722010Z",
     "iopub.status.busy": "2020-10-08T18:11:24.721178Z",
     "iopub.status.idle": "2020-10-08T18:11:26.121757Z",
     "shell.execute_reply": "2020-10-08T18:11:26.122344Z"
    },
    "papermill": {
     "duration": 1.432576,
     "end_time": "2020-10-08T18:11:26.122544",
     "exception": false,
     "start_time": "2020-10-08T18:11:24.689968",
     "status": "completed"
    },
    "tags": []
   },
   "outputs": [],
   "source": [
    "from sklearn.model_selection import train_test_split\n",
    "from sklearn.preprocessing import StandardScaler\n",
    "from sklearn.preprocessing import LabelEncoder\n",
    "\n",
    "\n",
    "X = df.drop(columns=['label'])\n",
    "y = df['label']\n",
    "\n",
    "scaler = StandardScaler()\n",
    "X = scaler.fit_transform(X)\n",
    "\n",
    "enc = LabelEncoder()\n",
    "y = enc.fit_transform(y)\n",
    "\n",
    "\n",
    "X_train, X_test, y_train, y_test = train_test_split(X, y, test_size=0.33, random_state=42)"
   ]
  },
  {
   "cell_type": "code",
   "execution_count": null,
   "metadata": {
    "execution": {
     "iopub.execute_input": "2020-10-08T18:11:26.176083Z",
     "iopub.status.busy": "2020-10-08T18:11:26.174934Z",
     "iopub.status.idle": "2020-10-08T18:11:26.180201Z",
     "shell.execute_reply": "2020-10-08T18:11:26.179439Z"
    },
    "papermill": {
     "duration": 0.034598,
     "end_time": "2020-10-08T18:11:26.180350",
     "exception": false,
     "start_time": "2020-10-08T18:11:26.145752",
     "status": "completed"
    },
    "tags": []
   },
   "outputs": [],
   "source": [
    "X"
   ]
  },
  {
   "cell_type": "code",
   "execution_count": null,
   "metadata": {
    "execution": {
     "iopub.execute_input": "2020-10-08T18:11:26.239302Z",
     "iopub.status.busy": "2020-10-08T18:11:26.238188Z",
     "iopub.status.idle": "2020-10-08T18:11:26.242593Z",
     "shell.execute_reply": "2020-10-08T18:11:26.241850Z"
    },
    "papermill": {
     "duration": 0.036043,
     "end_time": "2020-10-08T18:11:26.242721",
     "exception": false,
     "start_time": "2020-10-08T18:11:26.206678",
     "status": "completed"
    },
    "tags": []
   },
   "outputs": [],
   "source": [
    "y"
   ]
  },
  {
   "cell_type": "code",
   "execution_count": null,
   "metadata": {
    "execution": {
     "iopub.execute_input": "2020-10-08T18:11:26.297941Z",
     "iopub.status.busy": "2020-10-08T18:11:26.296646Z",
     "iopub.status.idle": "2020-10-08T18:11:26.300515Z",
     "shell.execute_reply": "2020-10-08T18:11:26.301120Z"
    },
    "papermill": {
     "duration": 0.034496,
     "end_time": "2020-10-08T18:11:26.301279",
     "exception": false,
     "start_time": "2020-10-08T18:11:26.266783",
     "status": "completed"
    },
    "tags": []
   },
   "outputs": [],
   "source": [
    "X_train.shape"
   ]
  },
  {
   "cell_type": "code",
   "execution_count": null,
   "metadata": {
    "execution": {
     "iopub.execute_input": "2020-10-08T18:11:26.358199Z",
     "iopub.status.busy": "2020-10-08T18:11:26.357412Z",
     "iopub.status.idle": "2020-10-08T18:11:44.684212Z",
     "shell.execute_reply": "2020-10-08T18:11:44.683470Z"
    },
    "papermill": {
     "duration": 18.358184,
     "end_time": "2020-10-08T18:11:44.684346",
     "exception": false,
     "start_time": "2020-10-08T18:11:26.326162",
     "status": "completed"
    },
    "tags": []
   },
   "outputs": [],
   "source": [
    "from sklearn.svm import SVC\n",
    "from sklearn.model_selection import GridSearchCV\n",
    "\n",
    "\n",
    "parameters_svc = {'kernel':('linear', 'rbf'), 'C':[1, 10]}\n",
    "grid_search_svc = GridSearchCV(SVC(), parameters_svc, n_jobs=-1)\n",
    "grid_search_svc.fit(X_train, y_train)\n",
    "\n"
   ]
  },
  {
   "cell_type": "code",
   "execution_count": null,
   "metadata": {
    "execution": {
     "iopub.execute_input": "2020-10-08T18:11:44.741851Z",
     "iopub.status.busy": "2020-10-08T18:11:44.740989Z",
     "iopub.status.idle": "2020-10-08T18:11:44.745275Z",
     "shell.execute_reply": "2020-10-08T18:11:44.744551Z"
    },
    "papermill": {
     "duration": 0.035778,
     "end_time": "2020-10-08T18:11:44.745418",
     "exception": false,
     "start_time": "2020-10-08T18:11:44.709640",
     "status": "completed"
    },
    "tags": []
   },
   "outputs": [],
   "source": [
    "grid_search_svc.best_score_"
   ]
  },
  {
   "cell_type": "code",
   "execution_count": null,
   "metadata": {
    "execution": {
     "iopub.execute_input": "2020-10-08T18:11:44.809177Z",
     "iopub.status.busy": "2020-10-08T18:11:44.808314Z",
     "iopub.status.idle": "2020-10-08T18:34:22.732002Z",
     "shell.execute_reply": "2020-10-08T18:34:22.732796Z"
    },
    "papermill": {
     "duration": 1357.961822,
     "end_time": "2020-10-08T18:34:22.733080",
     "exception": false,
     "start_time": "2020-10-08T18:11:44.771258",
     "status": "completed"
    },
    "tags": []
   },
   "outputs": [],
   "source": [
    "import xgboost as xgb\n",
    "from sklearn.model_selection import RandomizedSearchCV\n",
    "\n",
    "\n",
    "xgb_clf = xgb.XGBClassifier()\n",
    "\n",
    "parameters_xgb =    {\n",
    "            'max_depth': [3, 4, 5],\n",
    "            'learning_rate': [0.1, 0.2, 0.3],\n",
    "            'n_estimators': [50, 100, 150],\n",
    "            'gamma': [0, 0.1, 0.2],\n",
    "            'min_child_weight': [0, 0.5, 1],\n",
    "            'max_delta_step': [0],\n",
    "            'subsample': [0.7, 0.8, 0.9, 1],\n",
    "            'colsample_bytree': [0.6, 0.8, 1],\n",
    "            'colsample_bylevel': [1],\n",
    "            'reg_alpha': [0, 1e-2, 1, 1e1],\n",
    "            'reg_lambda': [0, 1e-2, 1, 1e1],\n",
    "            'base_score': [0.5]\n",
    "            }\n",
    "\n",
    "search_xgb = RandomizedSearchCV(xgb_clf, parameters_xgb, n_jobs=-1)\n",
    "search_xgb.fit(X_train, y_train)\n",
    "\n",
    "\n",
    "\n"
   ]
  },
  {
   "cell_type": "code",
   "execution_count": null,
   "metadata": {
    "execution": {
     "iopub.execute_input": "2020-10-08T18:34:22.810041Z",
     "iopub.status.busy": "2020-10-08T18:34:22.808989Z",
     "iopub.status.idle": "2020-10-08T18:34:22.813269Z",
     "shell.execute_reply": "2020-10-08T18:34:22.811034Z"
    },
    "papermill": {
     "duration": 0.048095,
     "end_time": "2020-10-08T18:34:22.813449",
     "exception": false,
     "start_time": "2020-10-08T18:34:22.765354",
     "status": "completed"
    },
    "tags": []
   },
   "outputs": [],
   "source": [
    "search_xgb.best_score_"
   ]
  },
  {
   "cell_type": "markdown",
   "metadata": {
    "papermill": {
     "duration": 0.029781,
     "end_time": "2020-10-08T18:34:22.876449",
     "exception": false,
     "start_time": "2020-10-08T18:34:22.846668",
     "status": "completed"
    },
    "tags": []
   },
   "source": [
    "# **Building an ANN**"
   ]
  },
  {
   "cell_type": "code",
   "execution_count": null,
   "metadata": {
    "execution": {
     "iopub.execute_input": "2020-10-08T18:34:22.937121Z",
     "iopub.status.busy": "2020-10-08T18:34:22.936283Z",
     "iopub.status.idle": "2020-10-08T18:34:29.827657Z",
     "shell.execute_reply": "2020-10-08T18:34:29.826943Z"
    },
    "papermill": {
     "duration": 6.923995,
     "end_time": "2020-10-08T18:34:29.827805",
     "exception": false,
     "start_time": "2020-10-08T18:34:22.903810",
     "status": "completed"
    },
    "tags": []
   },
   "outputs": [],
   "source": [
    "from keras.models import Sequential\n",
    "\n",
    "model = Sequential()"
   ]
  },
  {
   "cell_type": "code",
   "execution_count": null,
   "metadata": {
    "execution": {
     "iopub.execute_input": "2020-10-08T18:34:29.904475Z",
     "iopub.status.busy": "2020-10-08T18:34:29.902982Z",
     "iopub.status.idle": "2020-10-08T18:34:30.058590Z",
     "shell.execute_reply": "2020-10-08T18:34:30.057884Z"
    },
    "papermill": {
     "duration": 0.202838,
     "end_time": "2020-10-08T18:34:30.058739",
     "exception": false,
     "start_time": "2020-10-08T18:34:29.855901",
     "status": "completed"
    },
    "tags": []
   },
   "outputs": [],
   "source": [
    "from keras.layers import Dense\n",
    "\n",
    "model.add(Dense(32, activation='relu', input_shape=(1,2548)))\n",
    "model.add(Dense(32, activation='relu'))\n",
    "model.add(Dense(32, activation='relu'))\n",
    "model.add(Dense(3, activation=\"softmax\"))\n",
    "\n",
    "model.compile(optimizer='adam', loss='categorical_crossentropy', metrics=['accuracy'])\n",
    "model.summary()"
   ]
  },
  {
   "cell_type": "code",
   "execution_count": null,
   "metadata": {
    "execution": {
     "iopub.execute_input": "2020-10-08T18:34:30.124878Z",
     "iopub.status.busy": "2020-10-08T18:34:30.123350Z",
     "iopub.status.idle": "2020-10-08T18:34:30.143013Z",
     "shell.execute_reply": "2020-10-08T18:34:30.142186Z"
    },
    "papermill": {
     "duration": 0.0558,
     "end_time": "2020-10-08T18:34:30.143142",
     "exception": false,
     "start_time": "2020-10-08T18:34:30.087342",
     "status": "completed"
    },
    "tags": []
   },
   "outputs": [],
   "source": [
    "from keras.utils import to_categorical\n",
    "\n",
    "X_train_ann, X_val_ann, y_train_ann, y_val_ann = train_test_split(X_train, y_train, test_size=0.33, random_state=42)\n",
    "\n",
    "y_train_ann = to_categorical(y_train_ann, 3)\n",
    "y_val_ann = to_categorical(y_val_ann, 3)\n"
   ]
  },
  {
   "cell_type": "code",
   "execution_count": null,
   "metadata": {
    "execution": {
     "iopub.execute_input": "2020-10-08T18:34:30.207349Z",
     "iopub.status.busy": "2020-10-08T18:34:30.206484Z",
     "iopub.status.idle": "2020-10-08T18:34:37.735706Z",
     "shell.execute_reply": "2020-10-08T18:34:37.734780Z"
    },
    "papermill": {
     "duration": 7.563909,
     "end_time": "2020-10-08T18:34:37.735876",
     "exception": false,
     "start_time": "2020-10-08T18:34:30.171967",
     "status": "completed"
    },
    "tags": []
   },
   "outputs": [],
   "source": [
    "history = model.fit(X_train_ann, y_train_ann, epochs=100)\n"
   ]
  },
  {
   "cell_type": "code",
   "execution_count": null,
   "metadata": {
    "execution": {
     "iopub.execute_input": "2020-10-08T18:34:38.084316Z",
     "iopub.status.busy": "2020-10-08T18:34:38.083536Z",
     "iopub.status.idle": "2020-10-08T18:34:38.313991Z",
     "shell.execute_reply": "2020-10-08T18:34:38.314577Z"
    },
    "papermill": {
     "duration": 0.408241,
     "end_time": "2020-10-08T18:34:38.314771",
     "exception": false,
     "start_time": "2020-10-08T18:34:37.906530",
     "status": "completed"
    },
    "tags": []
   },
   "outputs": [],
   "source": [
    "model.evaluate(X_val_ann, y_val_ann)"
   ]
  },
  {
   "cell_type": "markdown",
   "metadata": {
    "papermill": {
     "duration": 0.16042,
     "end_time": "2020-10-08T18:34:38.635983",
     "exception": false,
     "start_time": "2020-10-08T18:34:38.475563",
     "status": "completed"
    },
    "tags": []
   },
   "source": [
    "# **Test set**"
   ]
  },
  {
   "cell_type": "code",
   "execution_count": null,
   "metadata": {
    "execution": {
     "iopub.execute_input": "2020-10-08T18:34:38.966253Z",
     "iopub.status.busy": "2020-10-08T18:34:38.965449Z",
     "iopub.status.idle": "2020-10-08T18:34:38.974464Z",
     "shell.execute_reply": "2020-10-08T18:34:38.973634Z"
    },
    "papermill": {
     "duration": 0.176935,
     "end_time": "2020-10-08T18:34:38.974598",
     "exception": false,
     "start_time": "2020-10-08T18:34:38.797663",
     "status": "completed"
    },
    "tags": []
   },
   "outputs": [],
   "source": [
    "best_xgb = search_xgb.best_estimator_\n",
    "best_xgb"
   ]
  },
  {
   "cell_type": "code",
   "execution_count": null,
   "metadata": {
    "execution": {
     "iopub.execute_input": "2020-10-08T18:34:39.309732Z",
     "iopub.status.busy": "2020-10-08T18:34:39.308098Z",
     "iopub.status.idle": "2020-10-08T18:34:39.391773Z",
     "shell.execute_reply": "2020-10-08T18:34:39.390979Z"
    },
    "papermill": {
     "duration": 0.255386,
     "end_time": "2020-10-08T18:34:39.391954",
     "exception": false,
     "start_time": "2020-10-08T18:34:39.136568",
     "status": "completed"
    },
    "tags": []
   },
   "outputs": [],
   "source": [
    "best_xgb.score(X_test, y_test)"
   ]
  },
  {
   "cell_type": "markdown",
   "metadata": {},
   "source": [
    "sumber : https://github.com/youneskamel/EEG_sentiment-_analysis"
   ]
  }
 ],
 "metadata": {
  "kernelspec": {
   "display_name": "Python 3",
   "language": "python",
   "name": "python3"
  },
  "language_info": {
   "codemirror_mode": {
    "name": "ipython",
    "version": 3
   },
   "file_extension": ".py",
   "mimetype": "text/x-python",
   "name": "python",
   "nbconvert_exporter": "python",
   "pygments_lexer": "ipython3",
   "version": "3.8.3"
  },
  "papermill": {
   "duration": 1402.865252,
   "end_time": "2020-10-08T18:34:39.698481",
   "environment_variables": {},
   "exception": null,
   "input_path": "__notebook__.ipynb",
   "output_path": "__notebook__.ipynb",
   "parameters": {},
   "start_time": "2020-10-08T18:11:16.833229",
   "version": "2.1.0"
  }
 },
 "nbformat": 4,
 "nbformat_minor": 4
}
